{
 "cells": [
  {
   "cell_type": "code",
   "execution_count": 2,
   "id": "06ace990",
   "metadata": {},
   "outputs": [
    {
     "name": "stdout",
     "output_type": "stream",
     "text": [
      "[0. 1. 2. 3. 4. 5. 6. 7. 8. 9.]\n"
     ]
    }
   ],
   "source": [
    "import numpy as np\n",
    "ar1 = np.arange(10,dtype=float)\n",
    "print(ar1)"
   ]
  },
  {
   "cell_type": "code",
   "execution_count": 3,
   "id": "7e4eed5e",
   "metadata": {},
   "outputs": [
    {
     "data": {
      "text/plain": [
       "'1.21.5'"
      ]
     },
     "execution_count": 3,
     "metadata": {},
     "output_type": "execute_result"
    }
   ],
   "source": [
    "np.__version__"
   ]
  },
  {
   "cell_type": "code",
   "execution_count": 5,
   "id": "91855c6b",
   "metadata": {},
   "outputs": [
    {
     "data": {
      "text/plain": [
       "array([ 0,  1,  2,  3,  4,  5,  6,  7,  8,  9, 10, 11, 12, 13, 14, 15, 16,\n",
       "       17, 18, 19, 20, 21, 22, 23, 24, 25, 26, 27, 28, 29, 30, 31, 32, 33,\n",
       "       34, 35, 36, 37, 38, 39, 40, 41, 42, 43, 44, 45, 46, 47, 48, 49, 50,\n",
       "       51, 52, 53, 54, 55, 56, 57, 58, 59, 60, 61, 62, 63, 64, 65, 66, 67,\n",
       "       68, 69, 70, 71, 72, 73, 74, 75, 76, 77, 78, 79, 80, 81, 82, 83, 84,\n",
       "       85, 86, 87, 88, 89, 90, 91, 92, 93, 94, 95, 96, 97, 98, 99])"
      ]
     },
     "execution_count": 5,
     "metadata": {},
     "output_type": "execute_result"
    }
   ],
   "source": [
    "arr = np.arange(0,100)\n",
    "arr"
   ]
  },
  {
   "cell_type": "code",
   "execution_count": 6,
   "id": "2385653f",
   "metadata": {},
   "outputs": [
    {
     "data": {
      "text/plain": [
       "array([ 0,  2,  4,  6,  8, 10, 12, 14, 16, 18, 20, 22, 24, 26, 28, 30, 32,\n",
       "       34, 36, 38, 40, 42, 44, 46, 48, 50, 52, 54, 56, 58, 60, 62, 64, 66,\n",
       "       68, 70, 72, 74, 76, 78, 80, 82, 84, 86, 88, 90, 92, 94, 96, 98])"
      ]
     },
     "execution_count": 6,
     "metadata": {},
     "output_type": "execute_result"
    }
   ],
   "source": [
    "np.arange(0,100,2)"
   ]
  },
  {
   "cell_type": "code",
   "execution_count": 7,
   "id": "ff4d9f60",
   "metadata": {},
   "outputs": [
    {
     "data": {
      "text/plain": [
       "array([[0, 1, 2],\n",
       "       [3, 4, 5],\n",
       "       [6, 7, 8]])"
      ]
     },
     "execution_count": 7,
     "metadata": {},
     "output_type": "execute_result"
    }
   ],
   "source": [
    "np.arange(0,9).reshape(3,3)"
   ]
  },
  {
   "cell_type": "code",
   "execution_count": 8,
   "id": "27240a1f",
   "metadata": {},
   "outputs": [
    {
     "data": {
      "text/plain": [
       "[0, 1, 2, 3, 4, 5, 6, 7, 8, 9]"
      ]
     },
     "execution_count": 8,
     "metadata": {},
     "output_type": "execute_result"
    }
   ],
   "source": [
    "list(range(0,10))"
   ]
  },
  {
   "cell_type": "code",
   "execution_count": 9,
   "id": "56fa0559",
   "metadata": {},
   "outputs": [
    {
     "data": {
      "text/plain": [
       "[1, 2, 3, 4, 5]"
      ]
     },
     "execution_count": 9,
     "metadata": {},
     "output_type": "execute_result"
    }
   ],
   "source": [
    "l = [1,2,3,4,5]\n",
    "l\n"
   ]
  },
  {
   "cell_type": "code",
   "execution_count": 15,
   "id": "465bb3a3",
   "metadata": {},
   "outputs": [
    {
     "data": {
      "text/plain": [
       "[0, 1, 2, 3, 4, 5, 6, 7, 8, 9]"
      ]
     },
     "execution_count": 15,
     "metadata": {},
     "output_type": "execute_result"
    }
   ],
   "source": [
    "l2=[x for x in range(0,10)]\n",
    "l2\n",
    "\n"
   ]
  },
  {
   "cell_type": "code",
   "execution_count": 16,
   "id": "f29536b3",
   "metadata": {},
   "outputs": [
    {
     "data": {
      "text/plain": [
       "['0', '1', '2', '3', '4', '5', '6', '7', '8', '9']"
      ]
     },
     "execution_count": 16,
     "metadata": {},
     "output_type": "execute_result"
    }
   ],
   "source": [
    "l3=[str(x) for x in l2]\n",
    "l3\n"
   ]
  },
  {
   "cell_type": "code",
   "execution_count": 18,
   "id": "df83d410",
   "metadata": {},
   "outputs": [
    {
     "data": {
      "text/plain": [
       "[0, 2, 4, 6, 8]"
      ]
     },
     "execution_count": 18,
     "metadata": {},
     "output_type": "execute_result"
    }
   ],
   "source": [
    "l4=[x for x in range(0,10,2)]\n",
    "l4"
   ]
  },
  {
   "cell_type": "code",
   "execution_count": 19,
   "id": "65893562",
   "metadata": {},
   "outputs": [
    {
     "data": {
      "text/plain": [
       "[0, 1, 4, 9, 16, 25, 36, 49, 64, 81]"
      ]
     },
     "execution_count": 19,
     "metadata": {},
     "output_type": "execute_result"
    }
   ],
   "source": [
    "l4 = [x**2 for x in range(0,10)]\n",
    "l4"
   ]
  },
  {
   "cell_type": "code",
   "execution_count": 21,
   "id": "d528c3f8",
   "metadata": {},
   "outputs": [],
   "source": [
    "import array"
   ]
  },
  {
   "cell_type": "code",
   "execution_count": 22,
   "id": "84fc2a10",
   "metadata": {},
   "outputs": [
    {
     "name": "stdout",
     "output_type": "stream",
     "text": [
      "Help on built-in module array:\n",
      "\n",
      "NAME\n",
      "    array\n",
      "\n",
      "DESCRIPTION\n",
      "    This module defines an object type which can efficiently represent\n",
      "    an array of basic values: characters, integers, floating point\n",
      "    numbers.  Arrays are sequence types and behave very much like lists,\n",
      "    except that the type of objects stored in them is constrained.\n",
      "\n",
      "CLASSES\n",
      "    builtins.object\n",
      "        array\n",
      "    \n",
      "    ArrayType = class array(builtins.object)\n",
      "     |  array(typecode [, initializer]) -> array\n",
      "     |  \n",
      "     |  Return a new array whose items are restricted by typecode, and\n",
      "     |  initialized from the optional initializer value, which must be a list,\n",
      "     |  string or iterable over elements of the appropriate type.\n",
      "     |  \n",
      "     |  Arrays represent basic values and behave very much like lists, except\n",
      "     |  the type of objects stored in them is constrained. The type is specified\n",
      "     |  at object creation time by using a type code, which is a single character.\n",
      "     |  The following type codes are defined:\n",
      "     |  \n",
      "     |      Type code   C Type             Minimum size in bytes\n",
      "     |      'b'         signed integer     1\n",
      "     |      'B'         unsigned integer   1\n",
      "     |      'u'         Unicode character  2 (see note)\n",
      "     |      'h'         signed integer     2\n",
      "     |      'H'         unsigned integer   2\n",
      "     |      'i'         signed integer     2\n",
      "     |      'I'         unsigned integer   2\n",
      "     |      'l'         signed integer     4\n",
      "     |      'L'         unsigned integer   4\n",
      "     |      'q'         signed integer     8 (see note)\n",
      "     |      'Q'         unsigned integer   8 (see note)\n",
      "     |      'f'         floating point     4\n",
      "     |      'd'         floating point     8\n",
      "     |  \n",
      "     |  NOTE: The 'u' typecode corresponds to Python's unicode character. On\n",
      "     |  narrow builds this is 2-bytes on wide builds this is 4-bytes.\n",
      "     |  \n",
      "     |  NOTE: The 'q' and 'Q' type codes are only available if the platform\n",
      "     |  C compiler used to build Python supports 'long long', or, on Windows,\n",
      "     |  '__int64'.\n",
      "     |  \n",
      "     |  Methods:\n",
      "     |  \n",
      "     |  append() -- append a new item to the end of the array\n",
      "     |  buffer_info() -- return information giving the current memory info\n",
      "     |  byteswap() -- byteswap all the items of the array\n",
      "     |  count() -- return number of occurrences of an object\n",
      "     |  extend() -- extend array by appending multiple elements from an iterable\n",
      "     |  fromfile() -- read items from a file object\n",
      "     |  fromlist() -- append items from the list\n",
      "     |  frombytes() -- append items from the string\n",
      "     |  index() -- return index of first occurrence of an object\n",
      "     |  insert() -- insert a new item into the array at a provided position\n",
      "     |  pop() -- remove and return item (default last)\n",
      "     |  remove() -- remove first occurrence of an object\n",
      "     |  reverse() -- reverse the order of the items in the array\n",
      "     |  tofile() -- write all items to a file object\n",
      "     |  tolist() -- return the array converted to an ordinary list\n",
      "     |  tobytes() -- return the array converted to a string\n",
      "     |  \n",
      "     |  Attributes:\n",
      "     |  \n",
      "     |  typecode -- the typecode character used to create the array\n",
      "     |  itemsize -- the length in bytes of one array item\n",
      "     |  \n",
      "     |  Methods defined here:\n",
      "     |  \n",
      "     |  __add__(self, value, /)\n",
      "     |      Return self+value.\n",
      "     |  \n",
      "     |  __contains__(self, key, /)\n",
      "     |      Return key in self.\n",
      "     |  \n",
      "     |  __copy__(self, /)\n",
      "     |      Return a copy of the array.\n",
      "     |  \n",
      "     |  __deepcopy__(self, unused, /)\n",
      "     |      Return a copy of the array.\n",
      "     |  \n",
      "     |  __delitem__(self, key, /)\n",
      "     |      Delete self[key].\n",
      "     |  \n",
      "     |  __eq__(self, value, /)\n",
      "     |      Return self==value.\n",
      "     |  \n",
      "     |  __ge__(self, value, /)\n",
      "     |      Return self>=value.\n",
      "     |  \n",
      "     |  __getattribute__(self, name, /)\n",
      "     |      Return getattr(self, name).\n",
      "     |  \n",
      "     |  __getitem__(self, key, /)\n",
      "     |      Return self[key].\n",
      "     |  \n",
      "     |  __gt__(self, value, /)\n",
      "     |      Return self>value.\n",
      "     |  \n",
      "     |  __iadd__(self, value, /)\n",
      "     |      Implement self+=value.\n",
      "     |  \n",
      "     |  __imul__(self, value, /)\n",
      "     |      Implement self*=value.\n",
      "     |  \n",
      "     |  __iter__(self, /)\n",
      "     |      Implement iter(self).\n",
      "     |  \n",
      "     |  __le__(self, value, /)\n",
      "     |      Return self<=value.\n",
      "     |  \n",
      "     |  __len__(self, /)\n",
      "     |      Return len(self).\n",
      "     |  \n",
      "     |  __lt__(self, value, /)\n",
      "     |      Return self<value.\n",
      "     |  \n",
      "     |  __mul__(self, value, /)\n",
      "     |      Return self*value.\n",
      "     |  \n",
      "     |  __ne__(self, value, /)\n",
      "     |      Return self!=value.\n",
      "     |  \n",
      "     |  __reduce_ex__(self, value, /)\n",
      "     |      Return state information for pickling.\n",
      "     |  \n",
      "     |  __repr__(self, /)\n",
      "     |      Return repr(self).\n",
      "     |  \n",
      "     |  __rmul__(self, value, /)\n",
      "     |      Return value*self.\n",
      "     |  \n",
      "     |  __setitem__(self, key, value, /)\n",
      "     |      Set self[key] to value.\n",
      "     |  \n",
      "     |  __sizeof__(self, /)\n",
      "     |      Size of the array in memory, in bytes.\n",
      "     |  \n",
      "     |  append(self, v, /)\n",
      "     |      Append new value v to the end of the array.\n",
      "     |  \n",
      "     |  buffer_info(self, /)\n",
      "     |      Return a tuple (address, length) giving the current memory address and the length in items of the buffer used to hold array's contents.\n",
      "     |      \n",
      "     |      The length should be multiplied by the itemsize attribute to calculate\n",
      "     |      the buffer length in bytes.\n",
      "     |  \n",
      "     |  byteswap(self, /)\n",
      "     |      Byteswap all items of the array.\n",
      "     |      \n",
      "     |      If the items in the array are not 1, 2, 4, or 8 bytes in size, RuntimeError is\n",
      "     |      raised.\n",
      "     |  \n",
      "     |  count(self, v, /)\n",
      "     |      Return number of occurrences of v in the array.\n",
      "     |  \n",
      "     |  extend(self, bb, /)\n",
      "     |      Append items to the end of the array.\n",
      "     |  \n",
      "     |  frombytes(self, buffer, /)\n",
      "     |      Appends items from the string, interpreting it as an array of machine values, as if it had been read from a file using the fromfile() method.\n",
      "     |  \n",
      "     |  fromfile(self, f, n, /)\n",
      "     |      Read n objects from the file object f and append them to the end of the array.\n",
      "     |  \n",
      "     |  fromlist(self, list, /)\n",
      "     |      Append items to array from list.\n",
      "     |  \n",
      "     |  fromunicode(self, ustr, /)\n",
      "     |      Extends this array with data from the unicode string ustr.\n",
      "     |      \n",
      "     |      The array must be a unicode type array; otherwise a ValueError is raised.\n",
      "     |      Use array.frombytes(ustr.encode(...)) to append Unicode data to an array of\n",
      "     |      some other type.\n",
      "     |  \n",
      "     |  index(self, v, /)\n",
      "     |      Return index of first occurrence of v in the array.\n",
      "     |  \n",
      "     |  insert(self, i, v, /)\n",
      "     |      Insert a new item v into the array before position i.\n",
      "     |  \n",
      "     |  pop(self, i=-1, /)\n",
      "     |      Return the i-th element and delete it from the array.\n",
      "     |      \n",
      "     |      i defaults to -1.\n",
      "     |  \n",
      "     |  remove(self, v, /)\n",
      "     |      Remove the first occurrence of v in the array.\n",
      "     |  \n",
      "     |  reverse(self, /)\n",
      "     |      Reverse the order of the items in the array.\n",
      "     |  \n",
      "     |  tobytes(self, /)\n",
      "     |      Convert the array to an array of machine values and return the bytes representation.\n",
      "     |  \n",
      "     |  tofile(self, f, /)\n",
      "     |      Write all items (as machine values) to the file object f.\n",
      "     |  \n",
      "     |  tolist(self, /)\n",
      "     |      Convert array to an ordinary list with the same items.\n",
      "     |  \n",
      "     |  tounicode(self, /)\n",
      "     |      Extends this array with data from the unicode string ustr.\n",
      "     |      \n",
      "     |      Convert the array to a unicode string.  The array must be a unicode type array;\n",
      "     |      otherwise a ValueError is raised.  Use array.tobytes().decode() to obtain a\n",
      "     |      unicode string from an array of some other type.\n",
      "     |  \n",
      "     |  ----------------------------------------------------------------------\n",
      "     |  Static methods defined here:\n",
      "     |  \n",
      "     |  __new__(*args, **kwargs) from builtins.type\n",
      "     |      Create and return a new object.  See help(type) for accurate signature.\n",
      "     |  \n",
      "     |  ----------------------------------------------------------------------\n",
      "     |  Data descriptors defined here:\n",
      "     |  \n",
      "     |  itemsize\n",
      "     |      the size, in bytes, of one array item\n",
      "     |  \n",
      "     |  typecode\n",
      "     |      the typecode character used to create the array\n",
      "     |  \n",
      "     |  ----------------------------------------------------------------------\n",
      "     |  Data and other attributes defined here:\n",
      "     |  \n",
      "     |  __hash__ = None\n",
      "    \n",
      "    class array(builtins.object)\n",
      "     |  array(typecode [, initializer]) -> array\n",
      "     |  \n",
      "     |  Return a new array whose items are restricted by typecode, and\n",
      "     |  initialized from the optional initializer value, which must be a list,\n",
      "     |  string or iterable over elements of the appropriate type.\n",
      "     |  \n",
      "     |  Arrays represent basic values and behave very much like lists, except\n",
      "     |  the type of objects stored in them is constrained. The type is specified\n",
      "     |  at object creation time by using a type code, which is a single character.\n",
      "     |  The following type codes are defined:\n",
      "     |  \n",
      "     |      Type code   C Type             Minimum size in bytes\n",
      "     |      'b'         signed integer     1\n",
      "     |      'B'         unsigned integer   1\n",
      "     |      'u'         Unicode character  2 (see note)\n",
      "     |      'h'         signed integer     2\n",
      "     |      'H'         unsigned integer   2\n",
      "     |      'i'         signed integer     2\n",
      "     |      'I'         unsigned integer   2\n",
      "     |      'l'         signed integer     4\n",
      "     |      'L'         unsigned integer   4\n",
      "     |      'q'         signed integer     8 (see note)\n",
      "     |      'Q'         unsigned integer   8 (see note)\n",
      "     |      'f'         floating point     4\n",
      "     |      'd'         floating point     8\n",
      "     |  \n",
      "     |  NOTE: The 'u' typecode corresponds to Python's unicode character. On\n",
      "     |  narrow builds this is 2-bytes on wide builds this is 4-bytes.\n",
      "     |  \n",
      "     |  NOTE: The 'q' and 'Q' type codes are only available if the platform\n",
      "     |  C compiler used to build Python supports 'long long', or, on Windows,\n",
      "     |  '__int64'.\n",
      "     |  \n",
      "     |  Methods:\n",
      "     |  \n",
      "     |  append() -- append a new item to the end of the array\n",
      "     |  buffer_info() -- return information giving the current memory info\n",
      "     |  byteswap() -- byteswap all the items of the array\n",
      "     |  count() -- return number of occurrences of an object\n",
      "     |  extend() -- extend array by appending multiple elements from an iterable\n",
      "     |  fromfile() -- read items from a file object\n",
      "     |  fromlist() -- append items from the list\n",
      "     |  frombytes() -- append items from the string\n",
      "     |  index() -- return index of first occurrence of an object\n",
      "     |  insert() -- insert a new item into the array at a provided position\n",
      "     |  pop() -- remove and return item (default last)\n",
      "     |  remove() -- remove first occurrence of an object\n",
      "     |  reverse() -- reverse the order of the items in the array\n",
      "     |  tofile() -- write all items to a file object\n",
      "     |  tolist() -- return the array converted to an ordinary list\n",
      "     |  tobytes() -- return the array converted to a string\n",
      "     |  \n",
      "     |  Attributes:\n",
      "     |  \n",
      "     |  typecode -- the typecode character used to create the array\n",
      "     |  itemsize -- the length in bytes of one array item\n",
      "     |  \n",
      "     |  Methods defined here:\n",
      "     |  \n",
      "     |  __add__(self, value, /)\n",
      "     |      Return self+value.\n",
      "     |  \n",
      "     |  __contains__(self, key, /)\n",
      "     |      Return key in self.\n",
      "     |  \n",
      "     |  __copy__(self, /)\n",
      "     |      Return a copy of the array.\n",
      "     |  \n",
      "     |  __deepcopy__(self, unused, /)\n",
      "     |      Return a copy of the array.\n",
      "     |  \n",
      "     |  __delitem__(self, key, /)\n",
      "     |      Delete self[key].\n",
      "     |  \n",
      "     |  __eq__(self, value, /)\n",
      "     |      Return self==value.\n",
      "     |  \n",
      "     |  __ge__(self, value, /)\n",
      "     |      Return self>=value.\n",
      "     |  \n",
      "     |  __getattribute__(self, name, /)\n",
      "     |      Return getattr(self, name).\n",
      "     |  \n",
      "     |  __getitem__(self, key, /)\n",
      "     |      Return self[key].\n",
      "     |  \n",
      "     |  __gt__(self, value, /)\n",
      "     |      Return self>value.\n",
      "     |  \n",
      "     |  __iadd__(self, value, /)\n",
      "     |      Implement self+=value.\n",
      "     |  \n",
      "     |  __imul__(self, value, /)\n",
      "     |      Implement self*=value.\n",
      "     |  \n",
      "     |  __iter__(self, /)\n",
      "     |      Implement iter(self).\n",
      "     |  \n",
      "     |  __le__(self, value, /)\n",
      "     |      Return self<=value.\n",
      "     |  \n",
      "     |  __len__(self, /)\n",
      "     |      Return len(self).\n",
      "     |  \n",
      "     |  __lt__(self, value, /)\n",
      "     |      Return self<value.\n",
      "     |  \n",
      "     |  __mul__(self, value, /)\n",
      "     |      Return self*value.\n",
      "     |  \n",
      "     |  __ne__(self, value, /)\n",
      "     |      Return self!=value.\n",
      "     |  \n",
      "     |  __reduce_ex__(self, value, /)\n",
      "     |      Return state information for pickling.\n",
      "     |  \n",
      "     |  __repr__(self, /)\n",
      "     |      Return repr(self).\n",
      "     |  \n",
      "     |  __rmul__(self, value, /)\n",
      "     |      Return value*self.\n",
      "     |  \n",
      "     |  __setitem__(self, key, value, /)\n",
      "     |      Set self[key] to value.\n",
      "     |  \n",
      "     |  __sizeof__(self, /)\n",
      "     |      Size of the array in memory, in bytes.\n",
      "     |  \n",
      "     |  append(self, v, /)\n",
      "     |      Append new value v to the end of the array.\n",
      "     |  \n",
      "     |  buffer_info(self, /)\n",
      "     |      Return a tuple (address, length) giving the current memory address and the length in items of the buffer used to hold array's contents.\n",
      "     |      \n",
      "     |      The length should be multiplied by the itemsize attribute to calculate\n",
      "     |      the buffer length in bytes.\n",
      "     |  \n",
      "     |  byteswap(self, /)\n",
      "     |      Byteswap all items of the array.\n",
      "     |      \n",
      "     |      If the items in the array are not 1, 2, 4, or 8 bytes in size, RuntimeError is\n",
      "     |      raised.\n",
      "     |  \n",
      "     |  count(self, v, /)\n",
      "     |      Return number of occurrences of v in the array.\n",
      "     |  \n",
      "     |  extend(self, bb, /)\n",
      "     |      Append items to the end of the array.\n",
      "     |  \n",
      "     |  frombytes(self, buffer, /)\n",
      "     |      Appends items from the string, interpreting it as an array of machine values, as if it had been read from a file using the fromfile() method.\n",
      "     |  \n",
      "     |  fromfile(self, f, n, /)\n",
      "     |      Read n objects from the file object f and append them to the end of the array.\n",
      "     |  \n",
      "     |  fromlist(self, list, /)\n",
      "     |      Append items to array from list.\n",
      "     |  \n",
      "     |  fromunicode(self, ustr, /)\n",
      "     |      Extends this array with data from the unicode string ustr.\n",
      "     |      \n",
      "     |      The array must be a unicode type array; otherwise a ValueError is raised.\n",
      "     |      Use array.frombytes(ustr.encode(...)) to append Unicode data to an array of\n",
      "     |      some other type.\n",
      "     |  \n",
      "     |  index(self, v, /)\n",
      "     |      Return index of first occurrence of v in the array.\n",
      "     |  \n",
      "     |  insert(self, i, v, /)\n",
      "     |      Insert a new item v into the array before position i.\n",
      "     |  \n",
      "     |  pop(self, i=-1, /)\n",
      "     |      Return the i-th element and delete it from the array.\n",
      "     |      \n",
      "     |      i defaults to -1.\n",
      "     |  \n",
      "     |  remove(self, v, /)\n",
      "     |      Remove the first occurrence of v in the array.\n",
      "     |  \n",
      "     |  reverse(self, /)\n",
      "     |      Reverse the order of the items in the array.\n",
      "     |  \n",
      "     |  tobytes(self, /)\n",
      "     |      Convert the array to an array of machine values and return the bytes representation.\n",
      "     |  \n",
      "     |  tofile(self, f, /)\n",
      "     |      Write all items (as machine values) to the file object f.\n",
      "     |  \n",
      "     |  tolist(self, /)\n",
      "     |      Convert array to an ordinary list with the same items.\n",
      "     |  \n",
      "     |  tounicode(self, /)\n",
      "     |      Extends this array with data from the unicode string ustr.\n",
      "     |      \n",
      "     |      Convert the array to a unicode string.  The array must be a unicode type array;\n",
      "     |      otherwise a ValueError is raised.  Use array.tobytes().decode() to obtain a\n",
      "     |      unicode string from an array of some other type.\n",
      "     |  \n",
      "     |  ----------------------------------------------------------------------\n",
      "     |  Static methods defined here:\n",
      "     |  \n",
      "     |  __new__(*args, **kwargs) from builtins.type\n",
      "     |      Create and return a new object.  See help(type) for accurate signature.\n",
      "     |  \n",
      "     |  ----------------------------------------------------------------------\n",
      "     |  Data descriptors defined here:\n",
      "     |  \n",
      "     |  itemsize\n",
      "     |      the size, in bytes, of one array item\n",
      "     |  \n",
      "     |  typecode\n",
      "     |      the typecode character used to create the array\n",
      "     |  \n",
      "     |  ----------------------------------------------------------------------\n",
      "     |  Data and other attributes defined here:\n",
      "     |  \n",
      "     |  __hash__ = None\n",
      "\n",
      "DATA\n",
      "    typecodes = 'bBuhHiIlLqQfd'\n",
      "\n",
      "FILE\n",
      "    (built-in)\n",
      "\n",
      "\n"
     ]
    }
   ],
   "source": [
    "help(array)"
   ]
  },
  {
   "cell_type": "code",
   "execution_count": 26,
   "id": "c2578c41",
   "metadata": {},
   "outputs": [
    {
     "data": {
      "text/plain": [
       "array('i', [0, 1, 2, 3, 4, 5, 6, 7, 8, 9])"
      ]
     },
     "execution_count": 26,
     "metadata": {},
     "output_type": "execute_result"
    }
   ],
   "source": [
    "arr = array.array('i',l2)\n",
    "arr"
   ]
  },
  {
   "cell_type": "code",
   "execution_count": 28,
   "id": "1c558d70",
   "metadata": {},
   "outputs": [
    {
     "data": {
      "text/plain": [
       "array('f', [0.0, 1.0, 2.0, 3.0, 4.0, 5.0, 6.0, 7.0, 8.0, 9.0])"
      ]
     },
     "execution_count": 28,
     "metadata": {},
     "output_type": "execute_result"
    }
   ],
   "source": [
    "arr = array.array('f',l2)\n",
    "arr"
   ]
  },
  {
   "cell_type": "code",
   "execution_count": 29,
   "id": "8eefeaec",
   "metadata": {},
   "outputs": [
    {
     "data": {
      "text/plain": [
       "array.array"
      ]
     },
     "execution_count": 29,
     "metadata": {},
     "output_type": "execute_result"
    }
   ],
   "source": [
    "type(arr)"
   ]
  },
  {
   "cell_type": "code",
   "execution_count": 33,
   "id": "8c84f317",
   "metadata": {},
   "outputs": [
    {
     "data": {
      "text/plain": [
       "array('i', [0, 1, 4, 9, 16, 25, 36, 49, 64, 81])"
      ]
     },
     "execution_count": 33,
     "metadata": {},
     "output_type": "execute_result"
    }
   ],
   "source": [
    "arr = array.array('i',[x**2 for x in l2])\n",
    "arr"
   ]
  },
  {
   "cell_type": "code",
   "execution_count": 34,
   "id": "4b027653",
   "metadata": {},
   "outputs": [
    {
     "data": {
      "text/plain": [
       "array([0, 1, 2, 3, 4, 5, 6, 7, 8, 9])"
      ]
     },
     "execution_count": 34,
     "metadata": {},
     "output_type": "execute_result"
    }
   ],
   "source": [
    "np.array(l2)"
   ]
  },
  {
   "cell_type": "code",
   "execution_count": 35,
   "id": "d43d91c4",
   "metadata": {},
   "outputs": [
    {
     "data": {
      "text/plain": [
       "array([ 3,  4,  5,  6,  7,  8,  9, 10, 11, 12])"
      ]
     },
     "execution_count": 35,
     "metadata": {},
     "output_type": "execute_result"
    }
   ],
   "source": [
    "np.array([x+3 for x in range(0,10)])"
   ]
  },
  {
   "cell_type": "code",
   "execution_count": 36,
   "id": "c1fbd71f",
   "metadata": {},
   "outputs": [
    {
     "data": {
      "text/plain": [
       "array([-3, -2, -1,  0,  1,  2,  3,  4,  5,  6])"
      ]
     },
     "execution_count": 36,
     "metadata": {},
     "output_type": "execute_result"
    }
   ],
   "source": [
    "np.array([x-3 for x in range(0,10)])"
   ]
  },
  {
   "cell_type": "code",
   "execution_count": 37,
   "id": "0b8a80b9",
   "metadata": {},
   "outputs": [
    {
     "data": {
      "text/plain": [
       "array([1, 2, 3, 4])"
      ]
     },
     "execution_count": 37,
     "metadata": {},
     "output_type": "execute_result"
    }
   ],
   "source": [
    "np.array([1,2,3,4])"
   ]
  },
  {
   "cell_type": "code",
   "execution_count": 38,
   "id": "814951cb",
   "metadata": {},
   "outputs": [
    {
     "data": {
      "text/plain": [
       "array([1., 2., 3., 4.])"
      ]
     },
     "execution_count": 38,
     "metadata": {},
     "output_type": "execute_result"
    }
   ],
   "source": [
    "np.array([1,2,3,4],dtype = 'float')"
   ]
  },
  {
   "cell_type": "code",
   "execution_count": 39,
   "id": "92a0d79e",
   "metadata": {},
   "outputs": [
    {
     "data": {
      "text/plain": [
       "array(['1', '2', '3', '4'], dtype='<U1')"
      ]
     },
     "execution_count": 39,
     "metadata": {},
     "output_type": "execute_result"
    }
   ],
   "source": [
    "np.array([1,2,3,4],dtype = 'str')"
   ]
  },
  {
   "cell_type": "code",
   "execution_count": 40,
   "id": "536cd768",
   "metadata": {},
   "outputs": [
    {
     "data": {
      "text/plain": [
       "array([1., 2., 3., 4.], dtype=float32)"
      ]
     },
     "execution_count": 40,
     "metadata": {},
     "output_type": "execute_result"
    }
   ],
   "source": [
    "np.array([1,2,3,4],dtype = np.float32)"
   ]
  },
  {
   "cell_type": "code",
   "execution_count": 43,
   "id": "2a669e06",
   "metadata": {},
   "outputs": [
    {
     "data": {
      "text/plain": [
       "[[1, 2, 3, 4], [4, 5, 6, 7]]"
      ]
     },
     "execution_count": 43,
     "metadata": {},
     "output_type": "execute_result"
    }
   ],
   "source": [
    "list = [[1,2,3,4],[4,5,6,7]]\n",
    "list"
   ]
  },
  {
   "cell_type": "code",
   "execution_count": 46,
   "id": "214b4bf1",
   "metadata": {},
   "outputs": [
    {
     "data": {
      "text/plain": [
       "array([[0, 1, 2, 3, 4],\n",
       "       [5, 6, 7, 8, 9]])"
      ]
     },
     "execution_count": 46,
     "metadata": {},
     "output_type": "execute_result"
    }
   ],
   "source": [
    "np.arange(0,10).reshape(2,5)"
   ]
  },
  {
   "cell_type": "code",
   "execution_count": 48,
   "id": "6d22fc56",
   "metadata": {},
   "outputs": [
    {
     "data": {
      "text/plain": [
       "[range(1, 4), range(3, 6)]"
      ]
     },
     "execution_count": 48,
     "metadata": {},
     "output_type": "execute_result"
    }
   ],
   "source": [
    "lc =[range(i,i+3) for i in [1,3]]\n",
    "lc"
   ]
  },
  {
   "cell_type": "code",
   "execution_count": 49,
   "id": "ed2896fd",
   "metadata": {},
   "outputs": [
    {
     "data": {
      "text/plain": [
       "array([[1, 2, 3],\n",
       "       [3, 4, 5]])"
      ]
     },
     "execution_count": 49,
     "metadata": {},
     "output_type": "execute_result"
    }
   ],
   "source": [
    "np.array(lc)"
   ]
  },
  {
   "cell_type": "code",
   "execution_count": 50,
   "id": "424e4e22",
   "metadata": {},
   "outputs": [
    {
     "data": {
      "text/plain": [
       "[range(1, 4), range(9, 12)]"
      ]
     },
     "execution_count": 50,
     "metadata": {},
     "output_type": "execute_result"
    }
   ],
   "source": [
    "lc =[range(i,i+3) for i in [1,9]]\n",
    "lc"
   ]
  },
  {
   "cell_type": "code",
   "execution_count": 51,
   "id": "735e2e6f",
   "metadata": {},
   "outputs": [
    {
     "data": {
      "text/plain": [
       "array([[ 1,  2,  3],\n",
       "       [ 9, 10, 11]])"
      ]
     },
     "execution_count": 51,
     "metadata": {},
     "output_type": "execute_result"
    }
   ],
   "source": [
    "np.array(lc)"
   ]
  },
  {
   "cell_type": "code",
   "execution_count": 52,
   "id": "8bfe3a64",
   "metadata": {},
   "outputs": [
    {
     "data": {
      "text/plain": [
       "[range(1, 4), range(9, 12), range(3, 6)]"
      ]
     },
     "execution_count": 52,
     "metadata": {},
     "output_type": "execute_result"
    }
   ],
   "source": [
    "lc =[range(i,i+3) for i in [1,9,3]]\n",
    "lc"
   ]
  },
  {
   "cell_type": "code",
   "execution_count": 53,
   "id": "4c51ec13",
   "metadata": {},
   "outputs": [
    {
     "data": {
      "text/plain": [
       "array([[ 1,  2,  3],\n",
       "       [ 9, 10, 11],\n",
       "       [ 3,  4,  5]])"
      ]
     },
     "execution_count": 53,
     "metadata": {},
     "output_type": "execute_result"
    }
   ],
   "source": [
    "np.array(lc)"
   ]
  },
  {
   "cell_type": "code",
   "execution_count": 54,
   "id": "210cfa78",
   "metadata": {},
   "outputs": [
    {
     "data": {
      "text/plain": [
       "array([0., 0., 0., 0., 0., 0., 0., 0., 0., 0.])"
      ]
     },
     "execution_count": 54,
     "metadata": {},
     "output_type": "execute_result"
    }
   ],
   "source": [
    "np.zeros(10)"
   ]
  },
  {
   "cell_type": "code",
   "execution_count": 56,
   "id": "bfaa4543",
   "metadata": {},
   "outputs": [
    {
     "data": {
      "text/plain": [
       "array([[0, 0],\n",
       "       [0, 0]])"
      ]
     },
     "execution_count": 56,
     "metadata": {},
     "output_type": "execute_result"
    }
   ],
   "source": [
    "np.zeros([2,2],dtype = 'int32')"
   ]
  },
  {
   "cell_type": "code",
   "execution_count": 57,
   "id": "bc68b31a",
   "metadata": {},
   "outputs": [
    {
     "data": {
      "text/plain": [
       "array([[0, 0, 0, 0, 0, 0, 0, 0, 0, 0],\n",
       "       [0, 0, 0, 0, 0, 0, 0, 0, 0, 0],\n",
       "       [0, 0, 0, 0, 0, 0, 0, 0, 0, 0],\n",
       "       [0, 0, 0, 0, 0, 0, 0, 0, 0, 0],\n",
       "       [0, 0, 0, 0, 0, 0, 0, 0, 0, 0],\n",
       "       [0, 0, 0, 0, 0, 0, 0, 0, 0, 0],\n",
       "       [0, 0, 0, 0, 0, 0, 0, 0, 0, 0],\n",
       "       [0, 0, 0, 0, 0, 0, 0, 0, 0, 0],\n",
       "       [0, 0, 0, 0, 0, 0, 0, 0, 0, 0],\n",
       "       [0, 0, 0, 0, 0, 0, 0, 0, 0, 0]])"
      ]
     },
     "execution_count": 57,
     "metadata": {},
     "output_type": "execute_result"
    }
   ],
   "source": [
    "np.zeros([10,10],dtype = 'int32')"
   ]
  },
  {
   "cell_type": "code",
   "execution_count": 58,
   "id": "c1747c29",
   "metadata": {},
   "outputs": [
    {
     "data": {
      "text/plain": [
       "array([[0, 0, 0, 0],\n",
       "       [0, 0, 0, 0],\n",
       "       [0, 0, 0, 0]])"
      ]
     },
     "execution_count": 58,
     "metadata": {},
     "output_type": "execute_result"
    }
   ],
   "source": [
    "np.zeros([3,4],dtype = 'int32')"
   ]
  },
  {
   "cell_type": "code",
   "execution_count": 59,
   "id": "1914a8bb",
   "metadata": {},
   "outputs": [
    {
     "data": {
      "text/plain": [
       "array([[1., 1., 1., 1.],\n",
       "       [1., 1., 1., 1.],\n",
       "       [1., 1., 1., 1.]])"
      ]
     },
     "execution_count": 59,
     "metadata": {},
     "output_type": "execute_result"
    }
   ],
   "source": [
    "np.ones((3,4))"
   ]
  },
  {
   "cell_type": "code",
   "execution_count": 60,
   "id": "83359fa9",
   "metadata": {},
   "outputs": [
    {
     "data": {
      "text/plain": [
       "array([1., 1., 1., 1., 1., 1., 1., 1., 1., 1.])"
      ]
     },
     "execution_count": 60,
     "metadata": {},
     "output_type": "execute_result"
    }
   ],
   "source": [
    "np.ones(10)"
   ]
  },
  {
   "cell_type": "code",
   "execution_count": 63,
   "id": "0ed3732b",
   "metadata": {},
   "outputs": [
    {
     "data": {
      "text/plain": [
       "array([[0., 0., 0., 0., 0., 0., 0., 0., 0., 0.],\n",
       "       [0., 0., 0., 0., 0., 0., 0., 0., 0., 0.],\n",
       "       [0., 0., 0., 0., 0., 0., 0., 0., 0., 0.],\n",
       "       [0., 0., 0., 0., 0., 0., 0., 0., 0., 0.],\n",
       "       [0., 0., 0., 0., 0., 0., 0., 0., 0., 0.],\n",
       "       [0., 0., 0., 0., 0., 0., 0., 0., 0., 0.],\n",
       "       [0., 0., 0., 0., 0., 0., 0., 0., 0., 0.],\n",
       "       [0., 0., 0., 0., 0., 0., 0., 0., 0., 0.],\n",
       "       [0., 0., 0., 0., 0., 0., 0., 0., 0., 0.],\n",
       "       [0., 0., 0., 0., 0., 0., 0., 0., 0., 0.]])"
      ]
     },
     "execution_count": 63,
     "metadata": {},
     "output_type": "execute_result"
    }
   ],
   "source": [
    "arr = np.zeros((10,10))\n",
    "arr"
   ]
  },
  {
   "cell_type": "code",
   "execution_count": 71,
   "id": "c9746507",
   "metadata": {},
   "outputs": [
    {
     "data": {
      "text/plain": [
       "array([[0., 0., 0., 0., 0., 0., 0., 0., 0., 0.],\n",
       "       [1., 1., 1., 1., 1., 1., 1., 1., 1., 1.],\n",
       "       [1., 1., 1., 1., 1., 1., 1., 1., 1., 1.],\n",
       "       [1., 1., 1., 1., 1., 1., 1., 1., 1., 1.],\n",
       "       [1., 1., 1., 1., 1., 1., 1., 1., 1., 1.],\n",
       "       [1., 1., 1., 1., 1., 1., 1., 1., 1., 1.],\n",
       "       [1., 1., 1., 1., 1., 1., 1., 1., 1., 1.],\n",
       "       [1., 1., 1., 1., 1., 1., 1., 1., 1., 1.],\n",
       "       [0., 1., 1., 1., 1., 1., 1., 1., 1., 0.],\n",
       "       [0., 0., 0., 0., 0., 0., 0., 0., 0., 0.]])"
      ]
     },
     "execution_count": 71,
     "metadata": {},
     "output_type": "execute_result"
    }
   ],
   "source": [
    "arr[1:9,1:9]= 1\n",
    "arr"
   ]
  },
  {
   "cell_type": "code",
   "execution_count": 75,
   "id": "e50433cf",
   "metadata": {},
   "outputs": [
    {
     "data": {
      "text/plain": [
       "array([[0., 0., 0., 0., 0., 0., 0., 0., 0., 0.],\n",
       "       [1., 9., 9., 9., 9., 9., 9., 9., 1., 1.],\n",
       "       [1., 9., 8., 8., 8., 8., 8., 8., 1., 1.],\n",
       "       [1., 9., 8., 8., 8., 8., 8., 8., 1., 1.],\n",
       "       [1., 9., 8., 8., 8., 8., 8., 8., 1., 1.],\n",
       "       [1., 9., 8., 8., 8., 8., 8., 8., 1., 1.],\n",
       "       [1., 9., 8., 8., 8., 8., 8., 8., 1., 1.],\n",
       "       [1., 9., 8., 8., 8., 8., 8., 8., 1., 1.],\n",
       "       [0., 1., 1., 1., 1., 1., 1., 1., 1., 0.],\n",
       "       [0., 0., 0., 0., 0., 0., 0., 0., 0., 0.]])"
      ]
     },
     "execution_count": 75,
     "metadata": {},
     "output_type": "execute_result"
    }
   ],
   "source": [
    "arr[2:8,2:8]=8\n",
    "arr"
   ]
  },
  {
   "cell_type": "code",
   "execution_count": 76,
   "id": "af3bb967",
   "metadata": {},
   "outputs": [
    {
     "data": {
      "text/plain": [
       "array([[0., 0., 0., 0., 0., 0., 0., 0., 0., 0.],\n",
       "       [1., 9., 9., 9., 9., 9., 9., 9., 1., 1.],\n",
       "       [1., 9., 8., 8., 8., 8., 8., 8., 1., 1.],\n",
       "       [1., 9., 8., 7., 7., 7., 7., 8., 1., 1.],\n",
       "       [1., 9., 8., 7., 7., 7., 7., 8., 1., 1.],\n",
       "       [1., 9., 8., 7., 7., 7., 7., 8., 1., 1.],\n",
       "       [1., 9., 8., 7., 7., 7., 7., 8., 1., 1.],\n",
       "       [1., 9., 8., 8., 8., 8., 8., 8., 1., 1.],\n",
       "       [0., 1., 1., 1., 1., 1., 1., 1., 1., 0.],\n",
       "       [0., 0., 0., 0., 0., 0., 0., 0., 0., 0.]])"
      ]
     },
     "execution_count": 76,
     "metadata": {},
     "output_type": "execute_result"
    }
   ],
   "source": [
    "arr[3:7,3:7]=7\n",
    "arr"
   ]
  },
  {
   "cell_type": "code",
   "execution_count": 79,
   "id": "7d89fff7",
   "metadata": {},
   "outputs": [
    {
     "data": {
      "text/plain": [
       "array([[0., 0., 0., 0., 0., 0., 0., 0., 0., 0.],\n",
       "       [1., 9., 9., 9., 9., 9., 9., 9., 1., 1.],\n",
       "       [1., 9., 8., 8., 8., 8., 8., 8., 1., 1.],\n",
       "       [1., 9., 8., 7., 7., 7., 7., 8., 1., 1.],\n",
       "       [1., 9., 8., 7., 6., 6., 7., 8., 1., 1.],\n",
       "       [1., 9., 8., 7., 6., 6., 7., 8., 1., 1.],\n",
       "       [1., 9., 8., 7., 7., 7., 7., 8., 1., 1.],\n",
       "       [1., 9., 8., 8., 8., 8., 8., 8., 1., 1.],\n",
       "       [0., 1., 1., 1., 1., 1., 1., 1., 1., 0.],\n",
       "       [0., 0., 0., 0., 0., 0., 0., 0., 0., 0.]])"
      ]
     },
     "execution_count": 79,
     "metadata": {},
     "output_type": "execute_result"
    }
   ],
   "source": [
    "arr[4:6,4:6]=6\n",
    "arr"
   ]
  },
  {
   "cell_type": "code",
   "execution_count": 84,
   "id": "2de3d81c",
   "metadata": {},
   "outputs": [
    {
     "data": {
      "text/plain": [
       "array([[0., 1., 2.],\n",
       "       [3., 4., 5.],\n",
       "       [6., 7., 8.]])"
      ]
     },
     "execution_count": 84,
     "metadata": {},
     "output_type": "execute_result"
    }
   ],
   "source": [
    "ar = np.arange(0,9,dtype='float').reshape(3,3)\n",
    "ar"
   ]
  },
  {
   "cell_type": "code",
   "execution_count": 86,
   "id": "51b5c1de",
   "metadata": {},
   "outputs": [
    {
     "data": {
      "text/plain": [
       "array([[3.14, 3.14, 3.14],\n",
       "       [3.14, 3.14, 3.14],\n",
       "       [3.14, 3.14, 3.14]])"
      ]
     },
     "execution_count": 86,
     "metadata": {},
     "output_type": "execute_result"
    }
   ],
   "source": [
    "ar[:] = 3.14\n",
    "ar"
   ]
  },
  {
   "cell_type": "code",
   "execution_count": 90,
   "id": "ff5b5b76",
   "metadata": {},
   "outputs": [
    {
     "data": {
      "text/plain": [
       "array([['abc', 'abc', 'abc', 'abc'],\n",
       "       ['abc', 'abc', 'abc', 'abc'],\n",
       "       ['abc', 'abc', 'abc', 'abc']], dtype='<U3')"
      ]
     },
     "execution_count": 90,
     "metadata": {},
     "output_type": "execute_result"
    }
   ],
   "source": [
    "np.full((3,4),'abc')"
   ]
  },
  {
   "cell_type": "code",
   "execution_count": 92,
   "id": "bfc2b1da",
   "metadata": {},
   "outputs": [],
   "source": [
    "#identity matrix\n",
    "np.eye?"
   ]
  },
  {
   "cell_type": "code",
   "execution_count": 93,
   "id": "ccf9aafa",
   "metadata": {},
   "outputs": [
    {
     "data": {
      "text/plain": [
       "array([[1., 0., 0.],\n",
       "       [0., 1., 0.],\n",
       "       [0., 0., 1.]])"
      ]
     },
     "execution_count": 93,
     "metadata": {},
     "output_type": "execute_result"
    }
   ],
   "source": [
    "np.eye(3)"
   ]
  },
  {
   "cell_type": "code",
   "execution_count": 94,
   "id": "f1ed0afd",
   "metadata": {},
   "outputs": [
    {
     "data": {
      "text/plain": [
       "array([[1., 0., 0., 0., 0.],\n",
       "       [0., 1., 0., 0., 0.],\n",
       "       [0., 0., 1., 0., 0.],\n",
       "       [0., 0., 0., 1., 0.],\n",
       "       [0., 0., 0., 0., 1.]])"
      ]
     },
     "execution_count": 94,
     "metadata": {},
     "output_type": "execute_result"
    }
   ],
   "source": [
    "np.eye(5)"
   ]
  },
  {
   "cell_type": "code",
   "execution_count": 95,
   "id": "a78cf48d",
   "metadata": {},
   "outputs": [
    {
     "data": {
      "text/plain": [
       "array([[1., 0., 0.],\n",
       "       [0., 1., 0.],\n",
       "       [0., 0., 1.]])"
      ]
     },
     "execution_count": 95,
     "metadata": {},
     "output_type": "execute_result"
    }
   ],
   "source": [
    "np.transpose(np.eye(3))"
   ]
  },
  {
   "cell_type": "code",
   "execution_count": null,
   "id": "b2d39503",
   "metadata": {},
   "outputs": [],
   "source": [
    "#list\n",
    "#list comprehesion\n",
    "#array modules(imported library array)\n",
    "#numpy array(zeros,ones,full,eye,arange)\n",
    "#reshape\n",
    "#indexing"
   ]
  }
 ],
 "metadata": {
  "kernelspec": {
   "display_name": "Python 3 (ipykernel)",
   "language": "python",
   "name": "python3"
  },
  "language_info": {
   "codemirror_mode": {
    "name": "ipython",
    "version": 3
   },
   "file_extension": ".py",
   "mimetype": "text/x-python",
   "name": "python",
   "nbconvert_exporter": "python",
   "pygments_lexer": "ipython3",
   "version": "3.9.12"
  }
 },
 "nbformat": 4,
 "nbformat_minor": 5
}
