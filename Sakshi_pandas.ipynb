{
 "cells": [
  {
   "cell_type": "code",
   "execution_count": 1,
   "id": "d2abeaeb",
   "metadata": {},
   "outputs": [],
   "source": [
    "import pandas as pd\n"
   ]
  },
  {
   "cell_type": "code",
   "execution_count": 4,
   "id": "441799fc",
   "metadata": {},
   "outputs": [
    {
     "ename": "SyntaxError",
     "evalue": "positional argument follows keyword argument (1605455344.py, line 1)",
     "output_type": "error",
     "traceback": [
      "\u001b[1;36m  Input \u001b[1;32mIn [4]\u001b[1;36m\u001b[0m\n\u001b[1;33m    a = pd.Series(data = \"Maths\",\"Calculus\",\"fds\",index =range [20,30,40])\u001b[0m\n\u001b[1;37m                                                                         ^\u001b[0m\n\u001b[1;31mSyntaxError\u001b[0m\u001b[1;31m:\u001b[0m positional argument follows keyword argument\n"
     ]
    }
   ],
   "source": [
    "a = pd.Series(data =[\"maths\",calculus]\n",
    "print(a)"
   ]
  },
  {
   "cell_type": "code",
   "execution_count": 5,
   "id": "08f8e2fa",
   "metadata": {},
   "outputs": [
    {
     "data": {
      "text/plain": [
       "0    1\n",
       "1    2\n",
       "2    3\n",
       "3    4\n",
       "4    5\n",
       "dtype: int64"
      ]
     },
     "execution_count": 5,
     "metadata": {},
     "output_type": "execute_result"
    }
   ],
   "source": [
    "s1 = pd.Series([1,2,3,4,5])\n",
    "s1"
   ]
  },
  {
   "cell_type": "code",
   "execution_count": 6,
   "id": "9f9cf440",
   "metadata": {},
   "outputs": [
    {
     "data": {
      "text/plain": [
       "RangeIndex(start=0, stop=5, step=1)"
      ]
     },
     "execution_count": 6,
     "metadata": {},
     "output_type": "execute_result"
    }
   ],
   "source": [
    "s1.index"
   ]
  },
  {
   "cell_type": "code",
   "execution_count": 7,
   "id": "d7ad57fd",
   "metadata": {},
   "outputs": [
    {
     "data": {
      "text/plain": [
       "RangeIndex(start=0, stop=5, step=1)"
      ]
     },
     "execution_count": 7,
     "metadata": {},
     "output_type": "execute_result"
    }
   ],
   "source": [
    "s1.index"
   ]
  },
  {
   "cell_type": "code",
   "execution_count": 8,
   "id": "d7c6d184",
   "metadata": {},
   "outputs": [
    {
     "data": {
      "text/plain": [
       "array([1, 2, 3, 4, 5], dtype=int64)"
      ]
     },
     "execution_count": 8,
     "metadata": {},
     "output_type": "execute_result"
    }
   ],
   "source": [
    "s1.values"
   ]
  },
  {
   "cell_type": "code",
   "execution_count": 9,
   "id": "ad3730be",
   "metadata": {},
   "outputs": [
    {
     "data": {
      "text/plain": [
       "<bound method IndexOpsMixin.value_counts of 0    1\n",
       "1    2\n",
       "2    3\n",
       "3    4\n",
       "4    5\n",
       "dtype: int64>"
      ]
     },
     "execution_count": 9,
     "metadata": {},
     "output_type": "execute_result"
    }
   ],
   "source": [
    "s1.value_counts"
   ]
  },
  {
   "cell_type": "code",
   "execution_count": 13,
   "id": "a5aead3c",
   "metadata": {},
   "outputs": [
    {
     "data": {
      "text/plain": [
       "array([30, 32, 34, 36, 38, 40, 42, 44, 46, 48])"
      ]
     },
     "execution_count": 13,
     "metadata": {},
     "output_type": "execute_result"
    }
   ],
   "source": [
    "import numpy as np\n",
    "marks = np.arange(30,50,2)\n",
    "marks"
   ]
  },
  {
   "cell_type": "code",
   "execution_count": 14,
   "id": "25e5f6f3",
   "metadata": {},
   "outputs": [
    {
     "data": {
      "text/plain": [
       "0    30\n",
       "1    32\n",
       "2    34\n",
       "3    36\n",
       "4    38\n",
       "5    40\n",
       "6    42\n",
       "7    44\n",
       "8    46\n",
       "9    48\n",
       "dtype: int32"
      ]
     },
     "execution_count": 14,
     "metadata": {},
     "output_type": "execute_result"
    }
   ],
   "source": [
    "s = pd.Series(marks)\n",
    "s"
   ]
  },
  {
   "cell_type": "code",
   "execution_count": 17,
   "id": "cda2a401",
   "metadata": {},
   "outputs": [
    {
     "data": {
      "text/plain": [
       "{'jiya': 90, 'tisha': 30, 'abhi': 60}"
      ]
     },
     "execution_count": 17,
     "metadata": {},
     "output_type": "execute_result"
    }
   ],
   "source": [
    "dmarks={'jiya':90,'tisha':30,'abhi':60}\n",
    "dmarks"
   ]
  },
  {
   "cell_type": "code",
   "execution_count": 18,
   "id": "b9678d34",
   "metadata": {},
   "outputs": [
    {
     "data": {
      "text/plain": [
       "jiya     90\n",
       "tisha    30\n",
       "abhi     60\n",
       "dtype: int64"
      ]
     },
     "execution_count": 18,
     "metadata": {},
     "output_type": "execute_result"
    }
   ],
   "source": [
    "j = pd.Series(dmarks)\n",
    "j"
   ]
  },
  {
   "cell_type": "code",
   "execution_count": 20,
   "id": "f998b442",
   "metadata": {},
   "outputs": [
    {
     "data": {
      "text/plain": [
       "array([90, 30, 60], dtype=int64)"
      ]
     },
     "execution_count": 20,
     "metadata": {},
     "output_type": "execute_result"
    }
   ],
   "source": [
    "j.values"
   ]
  },
  {
   "cell_type": "code",
   "execution_count": 21,
   "id": "0667c16b",
   "metadata": {},
   "outputs": [
    {
     "data": {
      "text/plain": [
       "Index(['jiya', 'tisha', 'abhi'], dtype='object')"
      ]
     },
     "execution_count": 21,
     "metadata": {},
     "output_type": "execute_result"
    }
   ],
   "source": [
    "j.index"
   ]
  },
  {
   "cell_type": "code",
   "execution_count": 22,
   "id": "28d996fe",
   "metadata": {},
   "outputs": [
    {
     "data": {
      "text/plain": [
       "x    3\n",
       "y    4\n",
       "z    5\n",
       "dtype: int64"
      ]
     },
     "execution_count": 22,
     "metadata": {},
     "output_type": "execute_result"
    }
   ],
   "source": [
    "s2 = pd.Series(index=['x','y','z'],data=[3,4,5])\n",
    "s2"
   ]
  },
  {
   "cell_type": "code",
   "execution_count": 24,
   "id": "c34a41fa",
   "metadata": {},
   "outputs": [
    {
     "data": {
      "text/plain": [
       "array([3, 4, 5], dtype=int64)"
      ]
     },
     "metadata": {},
     "output_type": "display_data"
    },
    {
     "data": {
      "text/plain": [
       "Index(['x', 'y', 'z'], dtype='object')"
      ]
     },
     "metadata": {},
     "output_type": "display_data"
    }
   ],
   "source": [
    "display(s2.values,s2.index)"
   ]
  },
  {
   "cell_type": "code",
   "execution_count": 25,
   "id": "e6ea8d5a",
   "metadata": {},
   "outputs": [
    {
     "data": {
      "text/plain": [
       "3    x\n",
       "4    y\n",
       "5    z\n",
       "dtype: object"
      ]
     },
     "execution_count": 25,
     "metadata": {},
     "output_type": "execute_result"
    }
   ],
   "source": [
    "s3 = pd.Series(['x','y','z'],[3,4,5])\n",
    "s3"
   ]
  },
  {
   "cell_type": "code",
   "execution_count": 26,
   "id": "f2a57062",
   "metadata": {},
   "outputs": [
    {
     "data": {
      "text/plain": [
       "(array(['x', 'y', 'z'], dtype=object), Int64Index([3, 4, 5], dtype='int64'))"
      ]
     },
     "execution_count": 26,
     "metadata": {},
     "output_type": "execute_result"
    }
   ],
   "source": [
    "a=s3.values,s3.index\n",
    "a"
   ]
  },
  {
   "cell_type": "code",
   "execution_count": 27,
   "id": "d5a84a45",
   "metadata": {},
   "outputs": [
    {
     "data": {
      "text/plain": [
       "4"
      ]
     },
     "execution_count": 27,
     "metadata": {},
     "output_type": "execute_result"
    }
   ],
   "source": [
    "s2.y"
   ]
  },
  {
   "cell_type": "code",
   "execution_count": 29,
   "id": "c7f16c55",
   "metadata": {},
   "outputs": [
    {
     "data": {
      "text/plain": [
       "x    3\n",
       "y    4\n",
       "dtype: int64"
      ]
     },
     "execution_count": 29,
     "metadata": {},
     "output_type": "execute_result"
    }
   ],
   "source": [
    "s2[:'y']"
   ]
  },
  {
   "cell_type": "code",
   "execution_count": 34,
   "id": "b4a9a38e",
   "metadata": {},
   "outputs": [
    {
     "data": {
      "text/plain": [
       "y    4\n",
       "z    5\n",
       "dtype: int64"
      ]
     },
     "metadata": {},
     "output_type": "display_data"
    },
    {
     "data": {
      "text/plain": [
       "x    3\n",
       "y    4\n",
       "dtype: int64"
      ]
     },
     "metadata": {},
     "output_type": "display_data"
    }
   ],
   "source": [
    "display(s2['y':], s2[:2])"
   ]
  },
  {
   "cell_type": "code",
   "execution_count": 31,
   "id": "0436b51e",
   "metadata": {},
   "outputs": [
    {
     "data": {
      "text/plain": [
       "0    30\n",
       "1    32\n",
       "2    34\n",
       "3    36\n",
       "4    38\n",
       "5    40\n",
       "6    42\n",
       "7    44\n",
       "8    46\n",
       "9    48\n",
       "dtype: int32"
      ]
     },
     "execution_count": 31,
     "metadata": {},
     "output_type": "execute_result"
    }
   ],
   "source": [
    "s"
   ]
  },
  {
   "cell_type": "code",
   "execution_count": 33,
   "id": "5ba7038b",
   "metadata": {},
   "outputs": [
    {
     "data": {
      "text/plain": [
       "2    34\n",
       "3    36\n",
       "4    38\n",
       "5    40\n",
       "6    42\n",
       "7    44\n",
       "dtype: int32"
      ]
     },
     "execution_count": 33,
     "metadata": {},
     "output_type": "execute_result"
    }
   ],
   "source": [
    "s[2:8]"
   ]
  },
  {
   "cell_type": "code",
   "execution_count": 37,
   "id": "82a35ecc",
   "metadata": {},
   "outputs": [
    {
     "data": {
      "text/plain": [
       "{'hina': 'a', 'diya': 'c'}"
      ]
     },
     "execution_count": 37,
     "metadata": {},
     "output_type": "execute_result"
    }
   ],
   "source": [
    "a = {'hina':'a','diya':'c'}\n",
    "a"
   ]
  },
  {
   "cell_type": "code",
   "execution_count": 39,
   "id": "20b7a7ae",
   "metadata": {},
   "outputs": [
    {
     "data": {
      "text/plain": [
       "hina    a\n",
       "diya    c\n",
       "dtype: object"
      ]
     },
     "execution_count": 39,
     "metadata": {},
     "output_type": "execute_result"
    }
   ],
   "source": [
    "s = pd.Series(a)\n",
    "s"
   ]
  },
  {
   "cell_type": "code",
   "execution_count": 40,
   "id": "98c52ed4",
   "metadata": {},
   "outputs": [
    {
     "data": {
      "text/plain": [
       "Index(['hina', 'diya'], dtype='object')"
      ]
     },
     "execution_count": 40,
     "metadata": {},
     "output_type": "execute_result"
    }
   ],
   "source": [
    "s.index"
   ]
  },
  {
   "cell_type": "code",
   "execution_count": 41,
   "id": "b88675d5",
   "metadata": {},
   "outputs": [
    {
     "data": {
      "text/plain": [
       "array(['a', 'c'], dtype=object)"
      ]
     },
     "execution_count": 41,
     "metadata": {},
     "output_type": "execute_result"
    }
   ],
   "source": [
    "s.values"
   ]
  },
  {
   "cell_type": "code",
   "execution_count": 44,
   "id": "bccc3c02",
   "metadata": {},
   "outputs": [
    {
     "data": {
      "text/plain": [
       "jiya    A+\n",
       "tiya    B+\n",
       "niya     A\n",
       "dtype: object"
      ]
     },
     "execution_count": 44,
     "metadata": {},
     "output_type": "execute_result"
    }
   ],
   "source": [
    "data=['A+','B+','A']\n",
    "index=['jiya','tiya','niya']\n",
    "pd.Series(data,index)"
   ]
  },
  {
   "cell_type": "code",
   "execution_count": 45,
   "id": "3fb4e102",
   "metadata": {},
   "outputs": [
    {
     "data": {
      "text/plain": [
       "A+    jiya\n",
       "B+    tiya\n",
       "A     niya\n",
       "dtype: object"
      ]
     },
     "execution_count": 45,
     "metadata": {},
     "output_type": "execute_result"
    }
   ],
   "source": [
    "pd.Series(index,data)"
   ]
  },
  {
   "cell_type": "code",
   "execution_count": 46,
   "id": "1f3ea5d8",
   "metadata": {},
   "outputs": [
    {
     "data": {
      "text/plain": [
       "A+    jiya\n",
       "B+    tiya\n",
       "A     niya\n",
       "dtype: object"
      ]
     },
     "metadata": {},
     "output_type": "display_data"
    },
    {
     "data": {
      "text/plain": [
       "Index(['A+', 'B+', 'A'], dtype='object')"
      ]
     },
     "metadata": {},
     "output_type": "display_data"
    },
    {
     "data": {
      "text/plain": [
       "array(['jiya', 'tiya', 'niya'], dtype=object)"
      ]
     },
     "metadata": {},
     "output_type": "display_data"
    }
   ],
   "source": [
    "display(pd.Series(ind,data),\n",
    "       pd.Series(ind,data).index,\n",
    "       pd.Series(ind,data).values)"
   ]
  },
  {
   "cell_type": "code",
   "execution_count": 1,
   "id": "e47771c4",
   "metadata": {},
   "outputs": [
    {
     "data": {
      "text/plain": [
       "['sakshi', 10, 'jiya', 20, 'maitri', 30]"
      ]
     },
     "execution_count": 1,
     "metadata": {},
     "output_type": "execute_result"
    }
   ],
   "source": [
    "a =[\"sakshi\",10,\"jiya\",20,\"maitri\",30]\n",
    "a"
   ]
  },
  {
   "cell_type": "code",
   "execution_count": 6,
   "id": "08da1843",
   "metadata": {},
   "outputs": [
    {
     "name": "stdout",
     "output_type": "stream",
     "text": [
      "0    sakshi\n",
      "1        10\n",
      "2      jiya\n",
      "3        20\n",
      "4    maitri\n",
      "5        30\n",
      "dtype: object\n"
     ]
    }
   ],
   "source": [
    "import pandas as pd\n",
    "b = pd.Series(a)\n",
    "print(b)"
   ]
  },
  {
   "cell_type": "code",
   "execution_count": 7,
   "id": "316b2903",
   "metadata": {},
   "outputs": [
    {
     "data": {
      "text/plain": [
       "('calculus', 90, 'bst', 'eco', 20)"
      ]
     },
     "execution_count": 7,
     "metadata": {},
     "output_type": "execute_result"
    }
   ],
   "source": [
    "c = (\"calculus\",90,\"bst\",\"eco\",20)\n",
    "c"
   ]
  },
  {
   "cell_type": "code",
   "execution_count": 11,
   "id": "6298663a",
   "metadata": {},
   "outputs": [
    {
     "data": {
      "text/plain": [
       "0    calculus\n",
       "1          90\n",
       "2         bst\n",
       "3         eco\n",
       "4          20\n",
       "dtype: object"
      ]
     },
     "execution_count": 11,
     "metadata": {},
     "output_type": "execute_result"
    }
   ],
   "source": [
    "q = pd.Series(c)\n",
    "q"
   ]
  },
  {
   "cell_type": "code",
   "execution_count": 8,
   "id": "913667fb",
   "metadata": {},
   "outputs": [
    {
     "name": "stdout",
     "output_type": "stream",
     "text": [
      "['apple', 'banana', 'mango']\n"
     ]
    }
   ],
   "source": [
    "fruits = [\"apple\", \"banana\", \"cherry\", \"kiwi\", \"mango\"]\n",
    "\n",
    "newlist = [x for x in fruits if \"a\" in x]\n",
    "\n",
    "print(newlist)"
   ]
  },
  {
   "cell_type": "code",
   "execution_count": 9,
   "id": "46164a67",
   "metadata": {},
   "outputs": [
    {
     "data": {
      "text/plain": [
       "0     apple\n",
       "1    banana\n",
       "2    cherry\n",
       "3      kiwi\n",
       "4     mango\n",
       "dtype: object"
      ]
     },
     "execution_count": 9,
     "metadata": {},
     "output_type": "execute_result"
    }
   ],
   "source": [
    "s = pd.Series(fruits)\n",
    "s"
   ]
  },
  {
   "cell_type": "code",
   "execution_count": 12,
   "id": "c194b09c",
   "metadata": {},
   "outputs": [],
   "source": [
    "pd.DataFrame?\n"
   ]
  },
  {
   "cell_type": "code",
   "execution_count": 18,
   "id": "5a22d8a2",
   "metadata": {},
   "outputs": [
    {
     "data": {
      "text/html": [
       "<div>\n",
       "<style scoped>\n",
       "    .dataframe tbody tr th:only-of-type {\n",
       "        vertical-align: middle;\n",
       "    }\n",
       "\n",
       "    .dataframe tbody tr th {\n",
       "        vertical-align: top;\n",
       "    }\n",
       "\n",
       "    .dataframe thead th {\n",
       "        text-align: right;\n",
       "    }\n",
       "</style>\n",
       "<table border=\"1\" class=\"dataframe\">\n",
       "  <thead>\n",
       "    <tr style=\"text-align: right;\">\n",
       "      <th></th>\n",
       "      <th>riya</th>\n",
       "      <th>jiya</th>\n",
       "    </tr>\n",
       "  </thead>\n",
       "  <tbody>\n",
       "    <tr>\n",
       "      <th>python</th>\n",
       "      <td>54</td>\n",
       "      <td>89</td>\n",
       "    </tr>\n",
       "    <tr>\n",
       "      <th>FDS</th>\n",
       "      <td>53</td>\n",
       "      <td>34</td>\n",
       "    </tr>\n",
       "  </tbody>\n",
       "</table>\n",
       "</div>"
      ],
      "text/plain": [
       "        riya  jiya\n",
       "python    54    89\n",
       "FDS       53    34"
      ]
     },
     "execution_count": 18,
     "metadata": {},
     "output_type": "execute_result"
    }
   ],
   "source": [
    "pd.DataFrame({'riya':[54,53],'jiya':[89,34]},index=['python','FDS'])"
   ]
  },
  {
   "cell_type": "code",
   "execution_count": 19,
   "id": "a65a67b9",
   "metadata": {},
   "outputs": [
    {
     "data": {
      "text/html": [
       "<div>\n",
       "<style scoped>\n",
       "    .dataframe tbody tr th:only-of-type {\n",
       "        vertical-align: middle;\n",
       "    }\n",
       "\n",
       "    .dataframe tbody tr th {\n",
       "        vertical-align: top;\n",
       "    }\n",
       "\n",
       "    .dataframe thead th {\n",
       "        text-align: right;\n",
       "    }\n",
       "</style>\n",
       "<table border=\"1\" class=\"dataframe\">\n",
       "  <thead>\n",
       "    <tr style=\"text-align: right;\">\n",
       "      <th></th>\n",
       "      <th>A</th>\n",
       "      <th>B</th>\n",
       "    </tr>\n",
       "  </thead>\n",
       "  <tbody>\n",
       "    <tr>\n",
       "      <th>pyhton</th>\n",
       "      <td>24</td>\n",
       "      <td>23</td>\n",
       "    </tr>\n",
       "    <tr>\n",
       "      <th>FDS</th>\n",
       "      <td>45</td>\n",
       "      <td>56</td>\n",
       "    </tr>\n",
       "  </tbody>\n",
       "</table>\n",
       "</div>"
      ],
      "text/plain": [
       "         A   B\n",
       "pyhton  24  23\n",
       "FDS     45  56"
      ]
     },
     "execution_count": 19,
     "metadata": {},
     "output_type": "execute_result"
    }
   ],
   "source": [
    "pd.DataFrame([[24,23],[45,56]],columns=['A','B'],index=['pyhton','FDS'])"
   ]
  },
  {
   "cell_type": "code",
   "execution_count": 20,
   "id": "3e0de42b",
   "metadata": {},
   "outputs": [],
   "source": [
    "import numpy as np"
   ]
  },
  {
   "cell_type": "code",
   "execution_count": 30,
   "id": "368b4b52",
   "metadata": {},
   "outputs": [
    {
     "data": {
      "text/html": [
       "<div>\n",
       "<style scoped>\n",
       "    .dataframe tbody tr th:only-of-type {\n",
       "        vertical-align: middle;\n",
       "    }\n",
       "\n",
       "    .dataframe tbody tr th {\n",
       "        vertical-align: top;\n",
       "    }\n",
       "\n",
       "    .dataframe thead th {\n",
       "        text-align: right;\n",
       "    }\n",
       "</style>\n",
       "<table border=\"1\" class=\"dataframe\">\n",
       "  <thead>\n",
       "    <tr style=\"text-align: right;\">\n",
       "      <th></th>\n",
       "      <th>py</th>\n",
       "      <th>fds</th>\n",
       "      <th>cai</th>\n",
       "    </tr>\n",
       "  </thead>\n",
       "  <tbody>\n",
       "    <tr>\n",
       "      <th>jiya</th>\n",
       "      <td>28</td>\n",
       "      <td>21</td>\n",
       "      <td>22</td>\n",
       "    </tr>\n",
       "    <tr>\n",
       "      <th>tisha</th>\n",
       "      <td>24</td>\n",
       "      <td>27</td>\n",
       "      <td>22</td>\n",
       "    </tr>\n",
       "    <tr>\n",
       "      <th>riya</th>\n",
       "      <td>29</td>\n",
       "      <td>1</td>\n",
       "      <td>22</td>\n",
       "    </tr>\n",
       "  </tbody>\n",
       "</table>\n",
       "</div>"
      ],
      "text/plain": [
       "       py  fds  cai\n",
       "jiya   28   21   22\n",
       "tisha  24   27   22\n",
       "riya   29    1   22"
      ]
     },
     "execution_count": 30,
     "metadata": {},
     "output_type": "execute_result"
    }
   ],
   "source": [
    "np.random.seed(9)\n",
    "marks=pd.DataFrame(np.random.randint(0,30,(3,3)),index=['jiya','tisha','riya'],columns=['py','fds','cai'])\n",
    "marks"
   ]
  },
  {
   "cell_type": "code",
   "execution_count": 31,
   "id": "120180b5",
   "metadata": {},
   "outputs": [
    {
     "data": {
      "text/plain": [
       "Index(['py', 'fds', 'cai'], dtype='object')"
      ]
     },
     "execution_count": 31,
     "metadata": {},
     "output_type": "execute_result"
    }
   ],
   "source": [
    "marks.columns"
   ]
  },
  {
   "cell_type": "code",
   "execution_count": 32,
   "id": "acf749d6",
   "metadata": {},
   "outputs": [
    {
     "data": {
      "text/plain": [
       "array([[28, 21, 22],\n",
       "       [24, 27, 22],\n",
       "       [29,  1, 22]])"
      ]
     },
     "execution_count": 32,
     "metadata": {},
     "output_type": "execute_result"
    }
   ],
   "source": [
    "marks.values"
   ]
  },
  {
   "cell_type": "code",
   "execution_count": 33,
   "id": "9c0d855f",
   "metadata": {},
   "outputs": [
    {
     "data": {
      "text/plain": [
       "Index(['jiya', 'tisha', 'riya'], dtype='object')"
      ]
     },
     "execution_count": 33,
     "metadata": {},
     "output_type": "execute_result"
    }
   ],
   "source": [
    "marks.index"
   ]
  },
  {
   "cell_type": "code",
   "execution_count": 34,
   "id": "306680d0",
   "metadata": {},
   "outputs": [
    {
     "data": {
      "text/plain": [
       "jiya     28\n",
       "tisha    24\n",
       "riya     29\n",
       "Name: py, dtype: int32"
      ]
     },
     "execution_count": 34,
     "metadata": {},
     "output_type": "execute_result"
    }
   ],
   "source": [
    "marks['py']"
   ]
  },
  {
   "cell_type": "code",
   "execution_count": 35,
   "id": "d0f145ab",
   "metadata": {},
   "outputs": [
    {
     "data": {
      "text/plain": [
       "jiya     21\n",
       "tisha    27\n",
       "riya      1\n",
       "Name: fds, dtype: int32"
      ]
     },
     "execution_count": 35,
     "metadata": {},
     "output_type": "execute_result"
    }
   ],
   "source": [
    "marks['fds']"
   ]
  },
  {
   "cell_type": "code",
   "execution_count": 38,
   "id": "cb826777",
   "metadata": {},
   "outputs": [
    {
     "ename": "ValueError",
     "evalue": "Shape of passed values is (5, 1), indices imply (3, 1)",
     "output_type": "error",
     "traceback": [
      "\u001b[1;31m---------------------------------------------------------------------------\u001b[0m",
      "\u001b[1;31mValueError\u001b[0m                                Traceback (most recent call last)",
      "Input \u001b[1;32mIn [38]\u001b[0m, in \u001b[0;36m<cell line: 1>\u001b[1;34m()\u001b[0m\n\u001b[1;32m----> 1\u001b[0m \u001b[43mpd\u001b[49m\u001b[38;5;241;43m.\u001b[39;49m\u001b[43mDataFrame\u001b[49m\u001b[43m(\u001b[49m\u001b[43mnp\u001b[49m\u001b[38;5;241;43m.\u001b[39;49m\u001b[43marange\u001b[49m\u001b[43m(\u001b[49m\u001b[38;5;241;43m0\u001b[39;49m\u001b[43m,\u001b[49m\u001b[38;5;241;43m10\u001b[39;49m\u001b[43m,\u001b[49m\u001b[38;5;241;43m2\u001b[39;49m\u001b[43m)\u001b[49m\u001b[43m,\u001b[49m\u001b[43mindex\u001b[49m\u001b[38;5;241;43m=\u001b[39;49m\u001b[43m[\u001b[49m\u001b[38;5;124;43m'\u001b[39;49m\u001b[38;5;124;43mjiya\u001b[39;49m\u001b[38;5;124;43m'\u001b[39;49m\u001b[43m,\u001b[49m\u001b[38;5;124;43m'\u001b[39;49m\u001b[38;5;124;43msakshi\u001b[39;49m\u001b[38;5;124;43m'\u001b[39;49m\u001b[43m,\u001b[49m\u001b[38;5;124;43m'\u001b[39;49m\u001b[38;5;124;43mmaitri\u001b[39;49m\u001b[38;5;124;43m'\u001b[39;49m\u001b[43m]\u001b[49m\u001b[43m)\u001b[49m\n",
      "File \u001b[1;32mD:\\anaconda3\\lib\\site-packages\\pandas\\core\\frame.py:694\u001b[0m, in \u001b[0;36mDataFrame.__init__\u001b[1;34m(self, data, index, columns, dtype, copy)\u001b[0m\n\u001b[0;32m    684\u001b[0m         mgr \u001b[38;5;241m=\u001b[39m dict_to_mgr(\n\u001b[0;32m    685\u001b[0m             \u001b[38;5;66;03m# error: Item \"ndarray\" of \"Union[ndarray, Series, Index]\" has no\u001b[39;00m\n\u001b[0;32m    686\u001b[0m             \u001b[38;5;66;03m# attribute \"name\"\u001b[39;00m\n\u001b[1;32m   (...)\u001b[0m\n\u001b[0;32m    691\u001b[0m             typ\u001b[38;5;241m=\u001b[39mmanager,\n\u001b[0;32m    692\u001b[0m         )\n\u001b[0;32m    693\u001b[0m     \u001b[38;5;28;01melse\u001b[39;00m:\n\u001b[1;32m--> 694\u001b[0m         mgr \u001b[38;5;241m=\u001b[39m \u001b[43mndarray_to_mgr\u001b[49m\u001b[43m(\u001b[49m\n\u001b[0;32m    695\u001b[0m \u001b[43m            \u001b[49m\u001b[43mdata\u001b[49m\u001b[43m,\u001b[49m\n\u001b[0;32m    696\u001b[0m \u001b[43m            \u001b[49m\u001b[43mindex\u001b[49m\u001b[43m,\u001b[49m\n\u001b[0;32m    697\u001b[0m \u001b[43m            \u001b[49m\u001b[43mcolumns\u001b[49m\u001b[43m,\u001b[49m\n\u001b[0;32m    698\u001b[0m \u001b[43m            \u001b[49m\u001b[43mdtype\u001b[49m\u001b[38;5;241;43m=\u001b[39;49m\u001b[43mdtype\u001b[49m\u001b[43m,\u001b[49m\n\u001b[0;32m    699\u001b[0m \u001b[43m            \u001b[49m\u001b[43mcopy\u001b[49m\u001b[38;5;241;43m=\u001b[39;49m\u001b[43mcopy\u001b[49m\u001b[43m,\u001b[49m\n\u001b[0;32m    700\u001b[0m \u001b[43m            \u001b[49m\u001b[43mtyp\u001b[49m\u001b[38;5;241;43m=\u001b[39;49m\u001b[43mmanager\u001b[49m\u001b[43m,\u001b[49m\n\u001b[0;32m    701\u001b[0m \u001b[43m        \u001b[49m\u001b[43m)\u001b[49m\n\u001b[0;32m    703\u001b[0m \u001b[38;5;66;03m# For data is list-like, or Iterable (will consume into list)\u001b[39;00m\n\u001b[0;32m    704\u001b[0m \u001b[38;5;28;01melif\u001b[39;00m is_list_like(data):\n",
      "File \u001b[1;32mD:\\anaconda3\\lib\\site-packages\\pandas\\core\\internals\\construction.py:351\u001b[0m, in \u001b[0;36mndarray_to_mgr\u001b[1;34m(values, index, columns, dtype, copy, typ)\u001b[0m\n\u001b[0;32m    346\u001b[0m \u001b[38;5;66;03m# _prep_ndarray ensures that values.ndim == 2 at this point\u001b[39;00m\n\u001b[0;32m    347\u001b[0m index, columns \u001b[38;5;241m=\u001b[39m _get_axes(\n\u001b[0;32m    348\u001b[0m     values\u001b[38;5;241m.\u001b[39mshape[\u001b[38;5;241m0\u001b[39m], values\u001b[38;5;241m.\u001b[39mshape[\u001b[38;5;241m1\u001b[39m], index\u001b[38;5;241m=\u001b[39mindex, columns\u001b[38;5;241m=\u001b[39mcolumns\n\u001b[0;32m    349\u001b[0m )\n\u001b[1;32m--> 351\u001b[0m \u001b[43m_check_values_indices_shape_match\u001b[49m\u001b[43m(\u001b[49m\u001b[43mvalues\u001b[49m\u001b[43m,\u001b[49m\u001b[43m \u001b[49m\u001b[43mindex\u001b[49m\u001b[43m,\u001b[49m\u001b[43m \u001b[49m\u001b[43mcolumns\u001b[49m\u001b[43m)\u001b[49m\n\u001b[0;32m    353\u001b[0m \u001b[38;5;28;01mif\u001b[39;00m typ \u001b[38;5;241m==\u001b[39m \u001b[38;5;124m\"\u001b[39m\u001b[38;5;124marray\u001b[39m\u001b[38;5;124m\"\u001b[39m:\n\u001b[0;32m    355\u001b[0m     \u001b[38;5;28;01mif\u001b[39;00m \u001b[38;5;28missubclass\u001b[39m(values\u001b[38;5;241m.\u001b[39mdtype\u001b[38;5;241m.\u001b[39mtype, \u001b[38;5;28mstr\u001b[39m):\n",
      "File \u001b[1;32mD:\\anaconda3\\lib\\site-packages\\pandas\\core\\internals\\construction.py:422\u001b[0m, in \u001b[0;36m_check_values_indices_shape_match\u001b[1;34m(values, index, columns)\u001b[0m\n\u001b[0;32m    420\u001b[0m passed \u001b[38;5;241m=\u001b[39m values\u001b[38;5;241m.\u001b[39mshape\n\u001b[0;32m    421\u001b[0m implied \u001b[38;5;241m=\u001b[39m (\u001b[38;5;28mlen\u001b[39m(index), \u001b[38;5;28mlen\u001b[39m(columns))\n\u001b[1;32m--> 422\u001b[0m \u001b[38;5;28;01mraise\u001b[39;00m \u001b[38;5;167;01mValueError\u001b[39;00m(\u001b[38;5;124mf\u001b[39m\u001b[38;5;124m\"\u001b[39m\u001b[38;5;124mShape of passed values is \u001b[39m\u001b[38;5;132;01m{\u001b[39;00mpassed\u001b[38;5;132;01m}\u001b[39;00m\u001b[38;5;124m, indices imply \u001b[39m\u001b[38;5;132;01m{\u001b[39;00mimplied\u001b[38;5;132;01m}\u001b[39;00m\u001b[38;5;124m\"\u001b[39m)\n",
      "\u001b[1;31mValueError\u001b[0m: Shape of passed values is (5, 1), indices imply (3, 1)"
     ]
    }
   ],
   "source": [
    "pd.DataFrame(np.arange(0,10),index=['jiya','sakshi','maitri'])"
   ]
  },
  {
   "cell_type": "code",
   "execution_count": 40,
   "id": "7178722d",
   "metadata": {},
   "outputs": [
    {
     "data": {
      "text/html": [
       "<div>\n",
       "<style scoped>\n",
       "    .dataframe tbody tr th:only-of-type {\n",
       "        vertical-align: middle;\n",
       "    }\n",
       "\n",
       "    .dataframe tbody tr th {\n",
       "        vertical-align: top;\n",
       "    }\n",
       "\n",
       "    .dataframe thead th {\n",
       "        text-align: right;\n",
       "    }\n",
       "</style>\n",
       "<table border=\"1\" class=\"dataframe\">\n",
       "  <thead>\n",
       "    <tr style=\"text-align: right;\">\n",
       "      <th></th>\n",
       "      <th>py</th>\n",
       "      <th>fds</th>\n",
       "      <th>cai</th>\n",
       "      <th>Total</th>\n",
       "    </tr>\n",
       "  </thead>\n",
       "  <tbody>\n",
       "    <tr>\n",
       "      <th>jiya</th>\n",
       "      <td>28</td>\n",
       "      <td>21</td>\n",
       "      <td>22</td>\n",
       "      <td>71</td>\n",
       "    </tr>\n",
       "    <tr>\n",
       "      <th>tisha</th>\n",
       "      <td>24</td>\n",
       "      <td>27</td>\n",
       "      <td>22</td>\n",
       "      <td>73</td>\n",
       "    </tr>\n",
       "    <tr>\n",
       "      <th>riya</th>\n",
       "      <td>29</td>\n",
       "      <td>1</td>\n",
       "      <td>22</td>\n",
       "      <td>52</td>\n",
       "    </tr>\n",
       "  </tbody>\n",
       "</table>\n",
       "</div>"
      ],
      "text/plain": [
       "       py  fds  cai  Total\n",
       "jiya   28   21   22     71\n",
       "tisha  24   27   22     73\n",
       "riya   29    1   22     52"
      ]
     },
     "execution_count": 40,
     "metadata": {},
     "output_type": "execute_result"
    }
   ],
   "source": [
    "marks['Total']=marks['py']+marks['fds']+marks['cai']\n",
    "marks"
   ]
  },
  {
   "cell_type": "code",
   "execution_count": 42,
   "id": "5dd0281f",
   "metadata": {},
   "outputs": [
    {
     "data": {
      "text/html": [
       "<div>\n",
       "<style scoped>\n",
       "    .dataframe tbody tr th:only-of-type {\n",
       "        vertical-align: middle;\n",
       "    }\n",
       "\n",
       "    .dataframe tbody tr th {\n",
       "        vertical-align: top;\n",
       "    }\n",
       "\n",
       "    .dataframe thead th {\n",
       "        text-align: right;\n",
       "    }\n",
       "</style>\n",
       "<table border=\"1\" class=\"dataframe\">\n",
       "  <thead>\n",
       "    <tr style=\"text-align: right;\">\n",
       "      <th></th>\n",
       "      <th>py</th>\n",
       "      <th>fds</th>\n",
       "      <th>cai</th>\n",
       "      <th>Total</th>\n",
       "      <th>percentage</th>\n",
       "    </tr>\n",
       "  </thead>\n",
       "  <tbody>\n",
       "    <tr>\n",
       "      <th>jiya</th>\n",
       "      <td>28</td>\n",
       "      <td>21</td>\n",
       "      <td>22</td>\n",
       "      <td>71</td>\n",
       "      <td>0.236667</td>\n",
       "    </tr>\n",
       "    <tr>\n",
       "      <th>tisha</th>\n",
       "      <td>24</td>\n",
       "      <td>27</td>\n",
       "      <td>22</td>\n",
       "      <td>73</td>\n",
       "      <td>0.243333</td>\n",
       "    </tr>\n",
       "    <tr>\n",
       "      <th>riya</th>\n",
       "      <td>29</td>\n",
       "      <td>1</td>\n",
       "      <td>22</td>\n",
       "      <td>52</td>\n",
       "      <td>0.173333</td>\n",
       "    </tr>\n",
       "  </tbody>\n",
       "</table>\n",
       "</div>"
      ],
      "text/plain": [
       "       py  fds  cai  Total  percentage\n",
       "jiya   28   21   22     71    0.236667\n",
       "tisha  24   27   22     73    0.243333\n",
       "riya   29    1   22     52    0.173333"
      ]
     },
     "execution_count": 42,
     "metadata": {},
     "output_type": "execute_result"
    }
   ],
   "source": [
    "marks['percentage']=marks['Total']/300\n",
    "marks"
   ]
  },
  {
   "cell_type": "code",
   "execution_count": null,
   "id": "a6d0be1e",
   "metadata": {},
   "outputs": [],
   "source": [
    "#indexing & selection"
   ]
  },
  {
   "cell_type": "code",
   "execution_count": 44,
   "id": "2ff370a9",
   "metadata": {},
   "outputs": [
    {
     "data": {
      "text/html": [
       "<div>\n",
       "<style scoped>\n",
       "    .dataframe tbody tr th:only-of-type {\n",
       "        vertical-align: middle;\n",
       "    }\n",
       "\n",
       "    .dataframe tbody tr th {\n",
       "        vertical-align: top;\n",
       "    }\n",
       "\n",
       "    .dataframe thead th {\n",
       "        text-align: right;\n",
       "    }\n",
       "</style>\n",
       "<table border=\"1\" class=\"dataframe\">\n",
       "  <thead>\n",
       "    <tr style=\"text-align: right;\">\n",
       "      <th></th>\n",
       "      <th>py</th>\n",
       "      <th>fds</th>\n",
       "    </tr>\n",
       "  </thead>\n",
       "  <tbody>\n",
       "    <tr>\n",
       "      <th>jiya</th>\n",
       "      <td>28</td>\n",
       "      <td>21</td>\n",
       "    </tr>\n",
       "    <tr>\n",
       "      <th>tisha</th>\n",
       "      <td>24</td>\n",
       "      <td>27</td>\n",
       "    </tr>\n",
       "    <tr>\n",
       "      <th>riya</th>\n",
       "      <td>29</td>\n",
       "      <td>1</td>\n",
       "    </tr>\n",
       "  </tbody>\n",
       "</table>\n",
       "</div>"
      ],
      "text/plain": [
       "       py  fds\n",
       "jiya   28   21\n",
       "tisha  24   27\n",
       "riya   29    1"
      ]
     },
     "execution_count": 44,
     "metadata": {},
     "output_type": "execute_result"
    }
   ],
   "source": [
    "marks[['py','fds']]"
   ]
  },
  {
   "cell_type": "code",
   "execution_count": null,
   "id": "0244f6bd",
   "metadata": {},
   "outputs": [],
   "source": [
    "marks.loc\n",
    "marks.iloc\n",
    "marks.ix"
   ]
  },
  {
   "cell_type": "code",
   "execution_count": 47,
   "id": "6d0ae405",
   "metadata": {},
   "outputs": [],
   "source": [
    "pd.DataFrame.loc?"
   ]
  },
  {
   "cell_type": "code",
   "execution_count": 49,
   "id": "85ddc97e",
   "metadata": {},
   "outputs": [],
   "source": [
    "pd.DataFrame.iloc?"
   ]
  },
  {
   "cell_type": "code",
   "execution_count": 52,
   "id": "82a1a5a2",
   "metadata": {},
   "outputs": [
    {
     "data": {
      "text/plain": [
       "py            29.000000\n",
       "fds            1.000000\n",
       "cai           22.000000\n",
       "Total         52.000000\n",
       "percentage     0.173333\n",
       "Name: riya, dtype: float64"
      ]
     },
     "execution_count": 52,
     "metadata": {},
     "output_type": "execute_result"
    }
   ],
   "source": [
    "marks.loc['riya']"
   ]
  },
  {
   "cell_type": "code",
   "execution_count": 55,
   "id": "381c51db",
   "metadata": {},
   "outputs": [
    {
     "data": {
      "text/plain": [
       "py     29.0\n",
       "fds     1.0\n",
       "cai    22.0\n",
       "Name: riya, dtype: float64"
      ]
     },
     "execution_count": 55,
     "metadata": {},
     "output_type": "execute_result"
    }
   ],
   "source": [
    "marks.loc['riya','py':'cai']"
   ]
  },
  {
   "cell_type": "code",
   "execution_count": 56,
   "id": "98cb6a21",
   "metadata": {},
   "outputs": [
    {
     "data": {
      "text/html": [
       "<div>\n",
       "<style scoped>\n",
       "    .dataframe tbody tr th:only-of-type {\n",
       "        vertical-align: middle;\n",
       "    }\n",
       "\n",
       "    .dataframe tbody tr th {\n",
       "        vertical-align: top;\n",
       "    }\n",
       "\n",
       "    .dataframe thead th {\n",
       "        text-align: right;\n",
       "    }\n",
       "</style>\n",
       "<table border=\"1\" class=\"dataframe\">\n",
       "  <thead>\n",
       "    <tr style=\"text-align: right;\">\n",
       "      <th></th>\n",
       "      <th>py</th>\n",
       "      <th>fds</th>\n",
       "      <th>cai</th>\n",
       "      <th>Total</th>\n",
       "      <th>percentage</th>\n",
       "    </tr>\n",
       "  </thead>\n",
       "  <tbody>\n",
       "    <tr>\n",
       "      <th>jiya</th>\n",
       "      <td>28</td>\n",
       "      <td>21</td>\n",
       "      <td>22</td>\n",
       "      <td>71</td>\n",
       "      <td>0.236667</td>\n",
       "    </tr>\n",
       "    <tr>\n",
       "      <th>tisha</th>\n",
       "      <td>24</td>\n",
       "      <td>27</td>\n",
       "      <td>22</td>\n",
       "      <td>73</td>\n",
       "      <td>0.243333</td>\n",
       "    </tr>\n",
       "  </tbody>\n",
       "</table>\n",
       "</div>"
      ],
      "text/plain": [
       "       py  fds  cai  Total  percentage\n",
       "jiya   28   21   22     71    0.236667\n",
       "tisha  24   27   22     73    0.243333"
      ]
     },
     "execution_count": 56,
     "metadata": {},
     "output_type": "execute_result"
    }
   ],
   "source": [
    "marks.loc[:'tisha']"
   ]
  },
  {
   "cell_type": "code",
   "execution_count": 57,
   "id": "baa6559b",
   "metadata": {},
   "outputs": [
    {
     "data": {
      "text/html": [
       "<div>\n",
       "<style scoped>\n",
       "    .dataframe tbody tr th:only-of-type {\n",
       "        vertical-align: middle;\n",
       "    }\n",
       "\n",
       "    .dataframe tbody tr th {\n",
       "        vertical-align: top;\n",
       "    }\n",
       "\n",
       "    .dataframe thead th {\n",
       "        text-align: right;\n",
       "    }\n",
       "</style>\n",
       "<table border=\"1\" class=\"dataframe\">\n",
       "  <thead>\n",
       "    <tr style=\"text-align: right;\">\n",
       "      <th></th>\n",
       "      <th>py</th>\n",
       "      <th>fds</th>\n",
       "    </tr>\n",
       "  </thead>\n",
       "  <tbody>\n",
       "    <tr>\n",
       "      <th>jiya</th>\n",
       "      <td>28</td>\n",
       "      <td>21</td>\n",
       "    </tr>\n",
       "    <tr>\n",
       "      <th>tisha</th>\n",
       "      <td>24</td>\n",
       "      <td>27</td>\n",
       "    </tr>\n",
       "  </tbody>\n",
       "</table>\n",
       "</div>"
      ],
      "text/plain": [
       "       py  fds\n",
       "jiya   28   21\n",
       "tisha  24   27"
      ]
     },
     "execution_count": 57,
     "metadata": {},
     "output_type": "execute_result"
    }
   ],
   "source": [
    "marks.loc[:'tisha',['py','fds']]"
   ]
  },
  {
   "cell_type": "code",
   "execution_count": 58,
   "id": "47583b3a",
   "metadata": {},
   "outputs": [
    {
     "data": {
      "text/html": [
       "<div>\n",
       "<style scoped>\n",
       "    .dataframe tbody tr th:only-of-type {\n",
       "        vertical-align: middle;\n",
       "    }\n",
       "\n",
       "    .dataframe tbody tr th {\n",
       "        vertical-align: top;\n",
       "    }\n",
       "\n",
       "    .dataframe thead th {\n",
       "        text-align: right;\n",
       "    }\n",
       "</style>\n",
       "<table border=\"1\" class=\"dataframe\">\n",
       "  <thead>\n",
       "    <tr style=\"text-align: right;\">\n",
       "      <th></th>\n",
       "      <th>fds</th>\n",
       "      <th>cai</th>\n",
       "      <th>Total</th>\n",
       "      <th>percentage</th>\n",
       "    </tr>\n",
       "  </thead>\n",
       "  <tbody>\n",
       "    <tr>\n",
       "      <th>jiya</th>\n",
       "      <td>21</td>\n",
       "      <td>22</td>\n",
       "      <td>71</td>\n",
       "      <td>0.236667</td>\n",
       "    </tr>\n",
       "    <tr>\n",
       "      <th>tisha</th>\n",
       "      <td>27</td>\n",
       "      <td>22</td>\n",
       "      <td>73</td>\n",
       "      <td>0.243333</td>\n",
       "    </tr>\n",
       "  </tbody>\n",
       "</table>\n",
       "</div>"
      ],
      "text/plain": [
       "       fds  cai  Total  percentage\n",
       "jiya    21   22     71    0.236667\n",
       "tisha   27   22     73    0.243333"
      ]
     },
     "execution_count": 58,
     "metadata": {},
     "output_type": "execute_result"
    }
   ],
   "source": [
    "marks.loc[:'tisha','fds':]"
   ]
  },
  {
   "cell_type": "code",
   "execution_count": 60,
   "id": "b06dd439",
   "metadata": {},
   "outputs": [
    {
     "data": {
      "text/plain": [
       "fds    27.0\n",
       "cai    22.0\n",
       "Name: tisha, dtype: float64"
      ]
     },
     "execution_count": 60,
     "metadata": {},
     "output_type": "execute_result"
    }
   ],
   "source": [
    "marks.loc['tisha',['fds','cai']]"
   ]
  },
  {
   "cell_type": "code",
   "execution_count": 61,
   "id": "c5167df6",
   "metadata": {},
   "outputs": [
    {
     "data": {
      "text/plain": [
       "fds    27.0\n",
       "cai    22.0\n",
       "Name: tisha, dtype: float64"
      ]
     },
     "execution_count": 61,
     "metadata": {},
     "output_type": "execute_result"
    }
   ],
   "source": [
    "marks.loc['tisha','fds':'cai']"
   ]
  },
  {
   "cell_type": "code",
   "execution_count": 62,
   "id": "d2eb85f7",
   "metadata": {},
   "outputs": [
    {
     "data": {
      "text/plain": [
       "py            29.000000\n",
       "fds            1.000000\n",
       "cai           22.000000\n",
       "Total         52.000000\n",
       "percentage     0.173333\n",
       "Name: riya, dtype: float64"
      ]
     },
     "execution_count": 62,
     "metadata": {},
     "output_type": "execute_result"
    }
   ],
   "source": [
    "marks.iloc[2]"
   ]
  },
  {
   "cell_type": "code",
   "execution_count": 63,
   "id": "e554d914",
   "metadata": {},
   "outputs": [
    {
     "data": {
      "text/html": [
       "<div>\n",
       "<style scoped>\n",
       "    .dataframe tbody tr th:only-of-type {\n",
       "        vertical-align: middle;\n",
       "    }\n",
       "\n",
       "    .dataframe tbody tr th {\n",
       "        vertical-align: top;\n",
       "    }\n",
       "\n",
       "    .dataframe thead th {\n",
       "        text-align: right;\n",
       "    }\n",
       "</style>\n",
       "<table border=\"1\" class=\"dataframe\">\n",
       "  <thead>\n",
       "    <tr style=\"text-align: right;\">\n",
       "      <th></th>\n",
       "      <th>py</th>\n",
       "      <th>fds</th>\n",
       "      <th>cai</th>\n",
       "      <th>Total</th>\n",
       "      <th>percentage</th>\n",
       "    </tr>\n",
       "  </thead>\n",
       "  <tbody>\n",
       "    <tr>\n",
       "      <th>jiya</th>\n",
       "      <td>28</td>\n",
       "      <td>21</td>\n",
       "      <td>22</td>\n",
       "      <td>71</td>\n",
       "      <td>0.236667</td>\n",
       "    </tr>\n",
       "    <tr>\n",
       "      <th>tisha</th>\n",
       "      <td>24</td>\n",
       "      <td>27</td>\n",
       "      <td>22</td>\n",
       "      <td>73</td>\n",
       "      <td>0.243333</td>\n",
       "    </tr>\n",
       "  </tbody>\n",
       "</table>\n",
       "</div>"
      ],
      "text/plain": [
       "       py  fds  cai  Total  percentage\n",
       "jiya   28   21   22     71    0.236667\n",
       "tisha  24   27   22     73    0.243333"
      ]
     },
     "execution_count": 63,
     "metadata": {},
     "output_type": "execute_result"
    }
   ],
   "source": [
    "marks.iloc[:2]"
   ]
  },
  {
   "cell_type": "code",
   "execution_count": 64,
   "id": "567085ba",
   "metadata": {},
   "outputs": [
    {
     "data": {
      "text/html": [
       "<div>\n",
       "<style scoped>\n",
       "    .dataframe tbody tr th:only-of-type {\n",
       "        vertical-align: middle;\n",
       "    }\n",
       "\n",
       "    .dataframe tbody tr th {\n",
       "        vertical-align: top;\n",
       "    }\n",
       "\n",
       "    .dataframe thead th {\n",
       "        text-align: right;\n",
       "    }\n",
       "</style>\n",
       "<table border=\"1\" class=\"dataframe\">\n",
       "  <thead>\n",
       "    <tr style=\"text-align: right;\">\n",
       "      <th></th>\n",
       "      <th>py</th>\n",
       "      <th>fds</th>\n",
       "      <th>cai</th>\n",
       "    </tr>\n",
       "  </thead>\n",
       "  <tbody>\n",
       "    <tr>\n",
       "      <th>jiya</th>\n",
       "      <td>28</td>\n",
       "      <td>21</td>\n",
       "      <td>22</td>\n",
       "    </tr>\n",
       "    <tr>\n",
       "      <th>tisha</th>\n",
       "      <td>24</td>\n",
       "      <td>27</td>\n",
       "      <td>22</td>\n",
       "    </tr>\n",
       "  </tbody>\n",
       "</table>\n",
       "</div>"
      ],
      "text/plain": [
       "       py  fds  cai\n",
       "jiya   28   21   22\n",
       "tisha  24   27   22"
      ]
     },
     "execution_count": 64,
     "metadata": {},
     "output_type": "execute_result"
    }
   ],
   "source": [
    "marks.iloc[:2,0:3]"
   ]
  },
  {
   "cell_type": "code",
   "execution_count": 67,
   "id": "39c190ed",
   "metadata": {},
   "outputs": [
    {
     "data": {
      "text/plain": [
       "jiya     71\n",
       "tisha    73\n",
       "riya     52\n",
       "Name: Total, dtype: int32"
      ]
     },
     "execution_count": 67,
     "metadata": {},
     "output_type": "execute_result"
    }
   ],
   "source": [
    "marks.iloc[:,3]"
   ]
  },
  {
   "cell_type": "code",
   "execution_count": 68,
   "id": "967c0d13",
   "metadata": {},
   "outputs": [
    {
     "data": {
      "text/plain": [
       "jiya     28\n",
       "tisha    24\n",
       "riya     29\n",
       "Name: py, dtype: int32"
      ]
     },
     "execution_count": 68,
     "metadata": {},
     "output_type": "execute_result"
    }
   ],
   "source": [
    "marks.iloc[:,0]"
   ]
  },
  {
   "cell_type": "code",
   "execution_count": 69,
   "id": "9ada508b",
   "metadata": {},
   "outputs": [
    {
     "data": {
      "text/html": [
       "<div>\n",
       "<style scoped>\n",
       "    .dataframe tbody tr th:only-of-type {\n",
       "        vertical-align: middle;\n",
       "    }\n",
       "\n",
       "    .dataframe tbody tr th {\n",
       "        vertical-align: top;\n",
       "    }\n",
       "\n",
       "    .dataframe thead th {\n",
       "        text-align: right;\n",
       "    }\n",
       "</style>\n",
       "<table border=\"1\" class=\"dataframe\">\n",
       "  <thead>\n",
       "    <tr style=\"text-align: right;\">\n",
       "      <th></th>\n",
       "      <th>py</th>\n",
       "    </tr>\n",
       "  </thead>\n",
       "  <tbody>\n",
       "    <tr>\n",
       "      <th>jiya</th>\n",
       "      <td>28</td>\n",
       "    </tr>\n",
       "    <tr>\n",
       "      <th>tisha</th>\n",
       "      <td>24</td>\n",
       "    </tr>\n",
       "    <tr>\n",
       "      <th>riya</th>\n",
       "      <td>29</td>\n",
       "    </tr>\n",
       "  </tbody>\n",
       "</table>\n",
       "</div>"
      ],
      "text/plain": [
       "       py\n",
       "jiya   28\n",
       "tisha  24\n",
       "riya   29"
      ]
     },
     "execution_count": 69,
     "metadata": {},
     "output_type": "execute_result"
    }
   ],
   "source": [
    "marks.iloc[:,0:1]"
   ]
  },
  {
   "cell_type": "code",
   "execution_count": 70,
   "id": "9e985915",
   "metadata": {},
   "outputs": [
    {
     "data": {
      "text/plain": [
       "jiya      True\n",
       "tisha    False\n",
       "riya      True\n",
       "Name: py, dtype: bool"
      ]
     },
     "execution_count": 70,
     "metadata": {},
     "output_type": "execute_result"
    }
   ],
   "source": [
    "marks.iloc[:,0] >25"
   ]
  },
  {
   "cell_type": "code",
   "execution_count": 71,
   "id": "a5190e98",
   "metadata": {},
   "outputs": [
    {
     "data": {
      "text/html": [
       "<div>\n",
       "<style scoped>\n",
       "    .dataframe tbody tr th:only-of-type {\n",
       "        vertical-align: middle;\n",
       "    }\n",
       "\n",
       "    .dataframe tbody tr th {\n",
       "        vertical-align: top;\n",
       "    }\n",
       "\n",
       "    .dataframe thead th {\n",
       "        text-align: right;\n",
       "    }\n",
       "</style>\n",
       "<table border=\"1\" class=\"dataframe\">\n",
       "  <thead>\n",
       "    <tr style=\"text-align: right;\">\n",
       "      <th></th>\n",
       "      <th>py</th>\n",
       "      <th>fds</th>\n",
       "      <th>cai</th>\n",
       "      <th>Total</th>\n",
       "      <th>percentage</th>\n",
       "    </tr>\n",
       "  </thead>\n",
       "  <tbody>\n",
       "    <tr>\n",
       "      <th>jiya</th>\n",
       "      <td>28</td>\n",
       "      <td>21</td>\n",
       "      <td>22</td>\n",
       "      <td>71</td>\n",
       "      <td>0.236667</td>\n",
       "    </tr>\n",
       "    <tr>\n",
       "      <th>riya</th>\n",
       "      <td>29</td>\n",
       "      <td>1</td>\n",
       "      <td>22</td>\n",
       "      <td>52</td>\n",
       "      <td>0.173333</td>\n",
       "    </tr>\n",
       "  </tbody>\n",
       "</table>\n",
       "</div>"
      ],
      "text/plain": [
       "      py  fds  cai  Total  percentage\n",
       "jiya  28   21   22     71    0.236667\n",
       "riya  29    1   22     52    0.173333"
      ]
     },
     "execution_count": 71,
     "metadata": {},
     "output_type": "execute_result"
    }
   ],
   "source": [
    "marks[marks.py>25]"
   ]
  },
  {
   "cell_type": "code",
   "execution_count": 74,
   "id": "504578fc",
   "metadata": {},
   "outputs": [
    {
     "data": {
      "text/html": [
       "<div>\n",
       "<style scoped>\n",
       "    .dataframe tbody tr th:only-of-type {\n",
       "        vertical-align: middle;\n",
       "    }\n",
       "\n",
       "    .dataframe tbody tr th {\n",
       "        vertical-align: top;\n",
       "    }\n",
       "\n",
       "    .dataframe thead th {\n",
       "        text-align: right;\n",
       "    }\n",
       "</style>\n",
       "<table border=\"1\" class=\"dataframe\">\n",
       "  <thead>\n",
       "    <tr style=\"text-align: right;\">\n",
       "      <th></th>\n",
       "      <th>py</th>\n",
       "      <th>fds</th>\n",
       "      <th>cai</th>\n",
       "    </tr>\n",
       "  </thead>\n",
       "  <tbody>\n",
       "    <tr>\n",
       "      <th>jiya</th>\n",
       "      <td>92</td>\n",
       "      <td>54</td>\n",
       "      <td>56</td>\n",
       "    </tr>\n",
       "    <tr>\n",
       "      <th>tisha</th>\n",
       "      <td>22</td>\n",
       "      <td>65</td>\n",
       "      <td>22</td>\n",
       "    </tr>\n",
       "    <tr>\n",
       "      <th>riya</th>\n",
       "      <td>52</td>\n",
       "      <td>59</td>\n",
       "      <td>40</td>\n",
       "    </tr>\n",
       "    <tr>\n",
       "      <th>om</th>\n",
       "      <td>91</td>\n",
       "      <td>33</td>\n",
       "      <td>93</td>\n",
       "    </tr>\n",
       "    <tr>\n",
       "      <th>maitri</th>\n",
       "      <td>92</td>\n",
       "      <td>0</td>\n",
       "      <td>60</td>\n",
       "    </tr>\n",
       "    <tr>\n",
       "      <th>shree</th>\n",
       "      <td>59</td>\n",
       "      <td>88</td>\n",
       "      <td>74</td>\n",
       "    </tr>\n",
       "    <tr>\n",
       "      <th>niya</th>\n",
       "      <td>56</td>\n",
       "      <td>93</td>\n",
       "      <td>62</td>\n",
       "    </tr>\n",
       "    <tr>\n",
       "      <th>tiya</th>\n",
       "      <td>12</td>\n",
       "      <td>18</td>\n",
       "      <td>86</td>\n",
       "    </tr>\n",
       "    <tr>\n",
       "      <th>kiya</th>\n",
       "      <td>56</td>\n",
       "      <td>1</td>\n",
       "      <td>56</td>\n",
       "    </tr>\n",
       "    <tr>\n",
       "      <th>priya</th>\n",
       "      <td>99</td>\n",
       "      <td>11</td>\n",
       "      <td>37</td>\n",
       "    </tr>\n",
       "  </tbody>\n",
       "</table>\n",
       "</div>"
      ],
      "text/plain": [
       "        py  fds  cai\n",
       "jiya    92   54   56\n",
       "tisha   22   65   22\n",
       "riya    52   59   40\n",
       "om      91   33   93\n",
       "maitri  92    0   60\n",
       "shree   59   88   74\n",
       "niya    56   93   62\n",
       "tiya    12   18   86\n",
       "kiya    56    1   56\n",
       "priya   99   11   37"
      ]
     },
     "execution_count": 74,
     "metadata": {},
     "output_type": "execute_result"
    }
   ],
   "source": [
    "np.random.seed(9)\n",
    "marks=pd.DataFrame(np.random.randint(0,100,(10,3)),index=['jiya','tisha','riya','om','maitri','shree','niya','tiya','kiya','priya'],columns=['py','fds','cai'])\n",
    "marks"
   ]
  },
  {
   "cell_type": "code",
   "execution_count": 80,
   "id": "e785d3a5",
   "metadata": {},
   "outputs": [
    {
     "data": {
      "text/html": [
       "<div>\n",
       "<style scoped>\n",
       "    .dataframe tbody tr th:only-of-type {\n",
       "        vertical-align: middle;\n",
       "    }\n",
       "\n",
       "    .dataframe tbody tr th {\n",
       "        vertical-align: top;\n",
       "    }\n",
       "\n",
       "    .dataframe thead th {\n",
       "        text-align: right;\n",
       "    }\n",
       "</style>\n",
       "<table border=\"1\" class=\"dataframe\">\n",
       "  <thead>\n",
       "    <tr style=\"text-align: right;\">\n",
       "      <th></th>\n",
       "      <th>py</th>\n",
       "      <th>fds</th>\n",
       "      <th>cai</th>\n",
       "    </tr>\n",
       "  </thead>\n",
       "  <tbody>\n",
       "    <tr>\n",
       "      <th>jiya</th>\n",
       "      <td>92</td>\n",
       "      <td>54</td>\n",
       "      <td>56</td>\n",
       "    </tr>\n",
       "    <tr>\n",
       "      <th>tisha</th>\n",
       "      <td>41</td>\n",
       "      <td>41</td>\n",
       "      <td>41</td>\n",
       "    </tr>\n",
       "    <tr>\n",
       "      <th>riya</th>\n",
       "      <td>52</td>\n",
       "      <td>59</td>\n",
       "      <td>40</td>\n",
       "    </tr>\n",
       "    <tr>\n",
       "      <th>om</th>\n",
       "      <td>91</td>\n",
       "      <td>33</td>\n",
       "      <td>93</td>\n",
       "    </tr>\n",
       "    <tr>\n",
       "      <th>maitri</th>\n",
       "      <td>92</td>\n",
       "      <td>0</td>\n",
       "      <td>60</td>\n",
       "    </tr>\n",
       "    <tr>\n",
       "      <th>shree</th>\n",
       "      <td>59</td>\n",
       "      <td>88</td>\n",
       "      <td>74</td>\n",
       "    </tr>\n",
       "    <tr>\n",
       "      <th>niya</th>\n",
       "      <td>56</td>\n",
       "      <td>93</td>\n",
       "      <td>62</td>\n",
       "    </tr>\n",
       "    <tr>\n",
       "      <th>tiya</th>\n",
       "      <td>41</td>\n",
       "      <td>41</td>\n",
       "      <td>41</td>\n",
       "    </tr>\n",
       "    <tr>\n",
       "      <th>kiya</th>\n",
       "      <td>56</td>\n",
       "      <td>1</td>\n",
       "      <td>56</td>\n",
       "    </tr>\n",
       "    <tr>\n",
       "      <th>priya</th>\n",
       "      <td>99</td>\n",
       "      <td>11</td>\n",
       "      <td>37</td>\n",
       "    </tr>\n",
       "  </tbody>\n",
       "</table>\n",
       "</div>"
      ],
      "text/plain": [
       "        py  fds  cai\n",
       "jiya    92   54   56\n",
       "tisha   41   41   41\n",
       "riya    52   59   40\n",
       "om      91   33   93\n",
       "maitri  92    0   60\n",
       "shree   59   88   74\n",
       "niya    56   93   62\n",
       "tiya    41   41   41\n",
       "kiya    56    1   56\n",
       "priya   99   11   37"
      ]
     },
     "execution_count": 80,
     "metadata": {},
     "output_type": "execute_result"
    }
   ],
   "source": [
    "marks[marks['py']<40]=41\n",
    "marks\n"
   ]
  },
  {
   "cell_type": "code",
   "execution_count": 81,
   "id": "baab388e",
   "metadata": {},
   "outputs": [
    {
     "data": {
      "text/html": [
       "<div>\n",
       "<style scoped>\n",
       "    .dataframe tbody tr th:only-of-type {\n",
       "        vertical-align: middle;\n",
       "    }\n",
       "\n",
       "    .dataframe tbody tr th {\n",
       "        vertical-align: top;\n",
       "    }\n",
       "\n",
       "    .dataframe thead th {\n",
       "        text-align: right;\n",
       "    }\n",
       "</style>\n",
       "<table border=\"1\" class=\"dataframe\">\n",
       "  <thead>\n",
       "    <tr style=\"text-align: right;\">\n",
       "      <th></th>\n",
       "      <th>py</th>\n",
       "      <th>fds</th>\n",
       "      <th>cai</th>\n",
       "    </tr>\n",
       "  </thead>\n",
       "  <tbody>\n",
       "    <tr>\n",
       "      <th>jiya</th>\n",
       "      <td>94</td>\n",
       "      <td>56</td>\n",
       "      <td>58</td>\n",
       "    </tr>\n",
       "    <tr>\n",
       "      <th>tisha</th>\n",
       "      <td>43</td>\n",
       "      <td>43</td>\n",
       "      <td>43</td>\n",
       "    </tr>\n",
       "    <tr>\n",
       "      <th>riya</th>\n",
       "      <td>54</td>\n",
       "      <td>61</td>\n",
       "      <td>42</td>\n",
       "    </tr>\n",
       "    <tr>\n",
       "      <th>om</th>\n",
       "      <td>93</td>\n",
       "      <td>35</td>\n",
       "      <td>95</td>\n",
       "    </tr>\n",
       "    <tr>\n",
       "      <th>maitri</th>\n",
       "      <td>94</td>\n",
       "      <td>2</td>\n",
       "      <td>62</td>\n",
       "    </tr>\n",
       "    <tr>\n",
       "      <th>shree</th>\n",
       "      <td>61</td>\n",
       "      <td>90</td>\n",
       "      <td>76</td>\n",
       "    </tr>\n",
       "    <tr>\n",
       "      <th>niya</th>\n",
       "      <td>58</td>\n",
       "      <td>95</td>\n",
       "      <td>64</td>\n",
       "    </tr>\n",
       "    <tr>\n",
       "      <th>tiya</th>\n",
       "      <td>43</td>\n",
       "      <td>43</td>\n",
       "      <td>43</td>\n",
       "    </tr>\n",
       "    <tr>\n",
       "      <th>kiya</th>\n",
       "      <td>58</td>\n",
       "      <td>3</td>\n",
       "      <td>58</td>\n",
       "    </tr>\n",
       "    <tr>\n",
       "      <th>priya</th>\n",
       "      <td>101</td>\n",
       "      <td>13</td>\n",
       "      <td>39</td>\n",
       "    </tr>\n",
       "  </tbody>\n",
       "</table>\n",
       "</div>"
      ],
      "text/plain": [
       "         py  fds  cai\n",
       "jiya     94   56   58\n",
       "tisha    43   43   43\n",
       "riya     54   61   42\n",
       "om       93   35   95\n",
       "maitri   94    2   62\n",
       "shree    61   90   76\n",
       "niya     58   95   64\n",
       "tiya     43   43   43\n",
       "kiya     58    3   58\n",
       "priya   101   13   39"
      ]
     },
     "execution_count": 81,
     "metadata": {},
     "output_type": "execute_result"
    }
   ],
   "source": [
    "marks+2"
   ]
  },
  {
   "cell_type": "code",
   "execution_count": null,
   "id": "66ae771c",
   "metadata": {},
   "outputs": [],
   "source": [
    "marks"
   ]
  },
  {
   "cell_type": "code",
   "execution_count": null,
   "id": "a1f106e8",
   "metadata": {},
   "outputs": [],
   "source": []
  },
  {
   "cell_type": "code",
   "execution_count": null,
   "id": "04257bbc",
   "metadata": {},
   "outputs": [],
   "source": []
  }
 ],
 "metadata": {
  "kernelspec": {
   "display_name": "Python 3 (ipykernel)",
   "language": "python",
   "name": "python3"
  },
  "language_info": {
   "codemirror_mode": {
    "name": "ipython",
    "version": 3
   },
   "file_extension": ".py",
   "mimetype": "text/x-python",
   "name": "python",
   "nbconvert_exporter": "python",
   "pygments_lexer": "ipython3",
   "version": "3.9.12"
  }
 },
 "nbformat": 4,
 "nbformat_minor": 5
}
