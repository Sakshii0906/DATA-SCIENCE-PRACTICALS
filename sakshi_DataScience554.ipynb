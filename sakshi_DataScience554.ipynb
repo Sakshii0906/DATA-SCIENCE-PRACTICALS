{
 "cells": [
  {
   "cell_type": "code",
   "execution_count": 3,
   "id": "2839b554",
   "metadata": {},
   "outputs": [
    {
     "name": "stdout",
     "output_type": "stream",
     "text": [
      "2401\n"
     ]
    }
   ],
   "source": [
    "x = 7\n",
    "print(x**4)"
   ]
  },
  {
   "cell_type": "code",
   "execution_count": 4,
   "id": "02c97b52",
   "metadata": {},
   "outputs": [
    {
     "name": "stdout",
     "output_type": "stream",
     "text": [
      "1\n"
     ]
    }
   ],
   "source": [
    "x = 7\n",
    "print(x//4)"
   ]
  },
  {
   "cell_type": "code",
   "execution_count": 9,
   "id": "d6133b25",
   "metadata": {},
   "outputs": [
    {
     "data": {
      "text/plain": [
       "['hi', 'there', 'Sam!']"
      ]
     },
     "execution_count": 9,
     "metadata": {},
     "output_type": "execute_result"
    }
   ],
   "source": [
    "s = \" hi there Sam!\"\n",
    "s.split()"
   ]
  },
  {
   "cell_type": "code",
   "execution_count": 4,
   "id": "a4ba75b4",
   "metadata": {},
   "outputs": [
    {
     "name": "stdout",
     "output_type": "stream",
     "text": [
      "the diameter of Earth is 12742 kilometers\n"
     ]
    }
   ],
   "source": [
    "planet = 'Earth'\n",
    "diameter = 12742\n",
    "print(\"the diameter of {} is {} kilometers\".format(planet,diameter))\n",
    "\n",
    "    "
   ]
  },
  {
   "cell_type": "code",
   "execution_count": 8,
   "id": "6a520220",
   "metadata": {},
   "outputs": [
    {
     "name": "stdout",
     "output_type": "stream",
     "text": [
      "the radius of Earth,12345 is\n"
     ]
    }
   ],
   "source": [
    "txt = \"the name of {planet},the radius {radius}\".format(planet = \"Earth\",radius = 12345)\n",
    "t2 = \"the radius of {0},is {1}\".format(\"Earth\",12345)\n",
    "t2= \"the radius of {} is\".format(\"Earth,12345\")\n",
    "print(t2)"
   ]
  },
  {
   "cell_type": "code",
   "execution_count": null,
   "id": "b08c4f5c",
   "metadata": {},
   "outputs": [],
   "source": [
    "d = {'k1':[1,2,3,{'tricky':[]}}\n"
   ]
  },
  {
   "cell_type": "code",
   "execution_count": 17,
   "id": "4e5b17cd",
   "metadata": {},
   "outputs": [
    {
     "data": {
      "text/plain": [
       "'hello'"
      ]
     },
     "execution_count": 17,
     "metadata": {},
     "output_type": "execute_result"
    }
   ],
   "source": [
    "lst = [1,2,[3,4],[5,[100,200,['hello']],23,11],1,7]\n",
    "lst[3] [1] [2] [0]"
   ]
  },
  {
   "cell_type": "code",
   "execution_count": 18,
   "id": "eaa3b804",
   "metadata": {},
   "outputs": [
    {
     "data": {
      "text/plain": [
       "[1,\n",
       " 2,\n",
       " 3,\n",
       " {'tricky': ['oh', 'man', 'inception', {'target': [1, 2, 3, 'hello']}]}]"
      ]
     },
     "execution_count": 18,
     "metadata": {},
     "output_type": "execute_result"
    }
   ],
   "source": [
    "d = {'k1':[1,2,3,{'tricky':['oh','man','inception',{'target':[1,2,3,'hello']}]}]}\n",
    "d['k1']"
   ]
  },
  {
   "cell_type": "code",
   "execution_count": 19,
   "id": "c9da9556",
   "metadata": {},
   "outputs": [
    {
     "data": {
      "text/plain": [
       "{'tricky': ['oh', 'man', 'inception', {'target': [1, 2, 3, 'hello']}]}"
      ]
     },
     "execution_count": 19,
     "metadata": {},
     "output_type": "execute_result"
    }
   ],
   "source": [
    "d = {'k1':[1,2,3,{'tricky':['oh','man','inception',{'target':[1,2,3,'hello']}]}]}\n",
    "d['k1'] [3]"
   ]
  },
  {
   "cell_type": "code",
   "execution_count": 20,
   "id": "70405908",
   "metadata": {},
   "outputs": [
    {
     "data": {
      "text/plain": [
       "{'target': [1, 2, 3, 'hello']}"
      ]
     },
     "execution_count": 20,
     "metadata": {},
     "output_type": "execute_result"
    }
   ],
   "source": [
    "d = {'k1':[1,2,3,{'tricky':['oh','man','inception',{'target':[1,2,3,'hello']}]}]}\n",
    "d['k1'] [3] ['tricky'] [3]"
   ]
  },
  {
   "cell_type": "code",
   "execution_count": 21,
   "id": "7153814f",
   "metadata": {},
   "outputs": [
    {
     "data": {
      "text/plain": [
       "[1, 2, 3, 'hello']"
      ]
     },
     "execution_count": 21,
     "metadata": {},
     "output_type": "execute_result"
    }
   ],
   "source": [
    "d = {'k1':[1,2,3,{'tricky':['oh','man','inception',{'target':[1,2,3,'hello']}]}]}\n",
    "d['k1'] [3] ['tricky'] [3] ['target']"
   ]
  },
  {
   "cell_type": "code",
   "execution_count": 22,
   "id": "92cef24d",
   "metadata": {},
   "outputs": [
    {
     "data": {
      "text/plain": [
       "'hello'"
      ]
     },
     "execution_count": 22,
     "metadata": {},
     "output_type": "execute_result"
    }
   ],
   "source": [
    "d = {'k1':[1,2,3,{'tricky':['oh','man','inception',{'target':[1,2,3,'hello']}]}]}\n",
    "d['k1'] [3] ['tricky'] [3] ['target'] [3]"
   ]
  },
  {
   "cell_type": "code",
   "execution_count": 3,
   "id": "471b397d",
   "metadata": {},
   "outputs": [
    {
     "name": "stdout",
     "output_type": "stream",
     "text": [
      "True\n",
      "True\n",
      "True\n"
     ]
    }
   ],
   "source": [
    "#create a function that returns true if the word 'dog ' is contained in the input string.dont worry about edges cases like a punctuation being attached to the word dog,but do account for capitalization  : finddog ('is there a dog here?')\n",
    "def finddog(input_str):\n",
    "    input_str = input_str.lower()\n",
    "    if 'dog' in input_str:\n",
    "        return True\n",
    "    else:\n",
    "        return False\n",
    "print(finddog(\"is there a dog here\"))\n",
    "print(finddog(\"is there a Dog here\"))\n",
    "print(finddog(\"is there a DOG here\"))"
   ]
  },
  {
   "cell_type": "code",
   "execution_count": null,
   "id": "0a388e8b",
   "metadata": {},
   "outputs": [],
   "source": [
    "#create a function that grabs the email website domain from  a string in the from a string in the form : ** user@domain.com \n"
   ]
  },
  {
   "cell_type": "code",
   "execution_count": 9,
   "id": "e78c7201",
   "metadata": {},
   "outputs": [
    {
     "name": "stdout",
     "output_type": "stream",
     "text": [
      "no ticket\n",
      "small ticket\n",
      "big ticket\n",
      "no ticket\n",
      "small ticket\n"
     ]
    }
   ],
   "source": [
    "def check_speed(speed,is_birthday):\n",
    "    if is_birthday:\n",
    "        speed-=5\n",
    "    if speed<=60:\n",
    "        return\"no ticket\"\n",
    "            \n",
    "    elif 61<= speed <= 80:\n",
    "        return \"small ticket\"\n",
    "    else:\n",
    "        return \"big ticket\"\n",
    "print(check_speed(55,False))\n",
    "print(check_speed(75,False))\n",
    "print(check_speed(85,False))\n",
    "print(check_speed(65,True))\n",
    "print(check_speed(85,True))\n",
    "        \n",
    "   "
   ]
  },
  {
   "cell_type": "code",
   "execution_count": 2,
   "id": "d994a8ec",
   "metadata": {},
   "outputs": [
    {
     "name": "stdout",
     "output_type": "stream",
     "text": [
      "30\n"
     ]
    }
   ],
   "source": [
    "x = lambda a,b : a * b\n",
    "print(x(5,6))"
   ]
  },
  {
   "cell_type": "code",
   "execution_count": 3,
   "id": "3e68384d",
   "metadata": {},
   "outputs": [
    {
     "name": "stdout",
     "output_type": "stream",
     "text": [
      "5.857142857142857\n"
     ]
    }
   ],
   "source": [
    "x = lambda a,b,c : a + b / c\n",
    "print(x(5,6,7))"
   ]
  },
  {
   "cell_type": "code",
   "execution_count": 5,
   "id": "66df222e",
   "metadata": {},
   "outputs": [
    {
     "name": "stdout",
     "output_type": "stream",
     "text": [
      "{'k1': [1, 2, 3, {'tricky': ['oh', 'man', 'inception', {'target': [1, 2, 3, 'hello']}]}]}\n"
     ]
    }
   ],
   "source": [
    "d = {'k1':[1,2,3,{'tricky':['oh','man','inception',{'target':[1,2,3,'hello']}]}]}\n",
    "print(d)"
   ]
  },
  {
   "cell_type": "code",
   "execution_count": 6,
   "id": "5c96cd1e",
   "metadata": {},
   "outputs": [
    {
     "data": {
      "text/plain": [
       "[1,\n",
       " 2,\n",
       " 3,\n",
       " {'tricky': ['oh', 'man', 'inception', {'target': [1, 2, 3, 'hello']}]}]"
      ]
     },
     "execution_count": 6,
     "metadata": {},
     "output_type": "execute_result"
    }
   ],
   "source": [
    "d[\"k1\"]"
   ]
  },
  {
   "cell_type": "code",
   "execution_count": 7,
   "id": "d43d44c0",
   "metadata": {},
   "outputs": [
    {
     "data": {
      "text/plain": [
       "{'tricky': ['oh', 'man', 'inception', {'target': [1, 2, 3, 'hello']}]}"
      ]
     },
     "execution_count": 7,
     "metadata": {},
     "output_type": "execute_result"
    }
   ],
   "source": [
    "d[\"k1\"][3]"
   ]
  },
  {
   "cell_type": "code",
   "execution_count": 8,
   "id": "9d27d1ca",
   "metadata": {},
   "outputs": [
    {
     "data": {
      "text/plain": [
       "['oh', 'man', 'inception', {'target': [1, 2, 3, 'hello']}]"
      ]
     },
     "execution_count": 8,
     "metadata": {},
     "output_type": "execute_result"
    }
   ],
   "source": [
    "d[\"k1\"][3][\"tricky\"]"
   ]
  },
  {
   "cell_type": "code",
   "execution_count": 9,
   "id": "c72ac892",
   "metadata": {},
   "outputs": [
    {
     "data": {
      "text/plain": [
       "{'target': [1, 2, 3, 'hello']}"
      ]
     },
     "execution_count": 9,
     "metadata": {},
     "output_type": "execute_result"
    }
   ],
   "source": [
    "d[\"k1\"][3][\"tricky\"][3]"
   ]
  },
  {
   "cell_type": "code",
   "execution_count": 10,
   "id": "905f8046",
   "metadata": {},
   "outputs": [
    {
     "data": {
      "text/plain": [
       "[1, 2, 3, 'hello']"
      ]
     },
     "execution_count": 10,
     "metadata": {},
     "output_type": "execute_result"
    }
   ],
   "source": [
    "d[\"k1\"][3][\"tricky\"][3]['target']"
   ]
  },
  {
   "cell_type": "code",
   "execution_count": 11,
   "id": "ccdb1726",
   "metadata": {},
   "outputs": [
    {
     "data": {
      "text/plain": [
       "'hello'"
      ]
     },
     "execution_count": 11,
     "metadata": {},
     "output_type": "execute_result"
    }
   ],
   "source": [
    "d[\"k1\"][3][\"tricky\"][3]['target'][3]"
   ]
  },
  {
   "cell_type": "code",
   "execution_count": 17,
   "id": "c47edd7b",
   "metadata": {},
   "outputs": [
    {
     "name": "stdout",
     "output_type": "stream",
     "text": [
      "enter your email:sakshi@gmail.com\n",
      "sakshi@gmail.com\n"
     ]
    }
   ],
   "source": [
    "email = input(\"enter your email:\")\n",
    "a = email.split(\"@\") [1]\n",
    "print(email)\n",
    "    \n",
    "    \n",
    "    \n",
    "    \n",
    "    \n"
   ]
  },
  {
   "cell_type": "code",
   "execution_count": null,
   "id": "409e31c0",
   "metadata": {},
   "outputs": [],
   "source": []
  }
 ],
 "metadata": {
  "kernelspec": {
   "display_name": "Python 3 (ipykernel)",
   "language": "python",
   "name": "python3"
  },
  "language_info": {
   "codemirror_mode": {
    "name": "ipython",
    "version": 3
   },
   "file_extension": ".py",
   "mimetype": "text/x-python",
   "name": "python",
   "nbconvert_exporter": "python",
   "pygments_lexer": "ipython3",
   "version": "3.9.12"
  }
 },
 "nbformat": 4,
 "nbformat_minor": 5
}
