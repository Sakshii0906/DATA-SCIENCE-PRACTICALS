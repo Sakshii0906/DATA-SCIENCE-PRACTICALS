{
  "nbformat": 4,
  "nbformat_minor": 0,
  "metadata": {
    "colab": {
      "provenance": [],
      "authorship_tag": "ABX9TyMvDFIUWzytbBjUnrvCBNkY",
      "include_colab_link": true
    },
    "kernelspec": {
      "name": "python3",
      "display_name": "Python 3"
    },
    "language_info": {
      "name": "python"
    }
  },
  "cells": [
    {
      "cell_type": "markdown",
      "metadata": {
        "id": "view-in-github",
        "colab_type": "text"
      },
      "source": [
        "<a href=\"https://colab.research.google.com/github/Sakshii0906/DATA-SCIENCE-PRACTICALS/blob/main/Deep_Learning_Practice.ipynb\" target=\"_parent\"><img src=\"https://colab.research.google.com/assets/colab-badge.svg\" alt=\"Open In Colab\"/></a>"
      ]
    },
    {
      "cell_type": "markdown",
      "source": [
        "#                                                                       **LAB-1**"
      ],
      "metadata": {
        "id": "Hu2ItICw3BI_"
      }
    },
    {
      "cell_type": "markdown",
      "source": [
        "### Q1. Create a 2x2 tensor of random values in PyTorch and print its shape."
      ],
      "metadata": {
        "id": "e_hhuZoG-mt8"
      }
    },
    {
      "cell_type": "code",
      "execution_count": 6,
      "metadata": {
        "colab": {
          "base_uri": "https://localhost:8080/",
          "height": 0
        },
        "id": "gH7wy-c65zrg",
        "outputId": "25cd4bd8-04b0-42c9-9e6c-676085a5e56f"
      },
      "outputs": [
        {
          "output_type": "stream",
          "name": "stdout",
          "text": [
            "tensor([[0.2041, 0.4692],\n",
            "        [0.7933, 0.2976]])\n",
            "shape of tensor:\n",
            " torch.Size([2, 2])\n"
          ]
        }
      ],
      "source": [
        "import torch\n",
        "random_tensor =torch.rand((2,2))\n",
        "print(random_tensor)\n",
        "print(\"shape of tensor:\\n\",random_tensor.shape)"
      ]
    },
    {
      "cell_type": "markdown",
      "source": [
        "### Q2. In PyTorch, create a 1D tensor with values [1.0, 2.0, 3.0] and [4.0, 5.0, 6.0], then compute:\n",
        "### (a) Element-wise addition (b) Dot product"
      ],
      "metadata": {
        "id": "krnL6t13-rgL"
      }
    },
    {
      "cell_type": "code",
      "source": [
        "tensor1 = torch.tensor([1.0,2.0,3.0])\n",
        "tensor2 = torch.tensor([4.0,5.0,6.0])\n",
        "print(\"addition:\\n\",tensor1+tensor2)\n",
        "print(\"dot product:\\n\",torch.dot(tensor1,tensor2))"
      ],
      "metadata": {
        "colab": {
          "base_uri": "https://localhost:8080/"
        },
        "id": "4AyHcROr9aUj",
        "outputId": "6c60c011-b8ac-4b13-8a03-3ccb094b8868"
      },
      "execution_count": null,
      "outputs": [
        {
          "output_type": "stream",
          "name": "stdout",
          "text": [
            "addition:\n",
            " tensor([5., 7., 9.])\n",
            "dot product:\n",
            " tensor(32.)\n"
          ]
        }
      ]
    },
    {
      "cell_type": "markdown",
      "source": [
        "### Q3. Convert a NumPy array [[10, 20], [30, 40]] into a PyTorch tensor, and convert it back to a NumPy array."
      ],
      "metadata": {
        "id": "OvFWXCUk-0tc"
      }
    },
    {
      "cell_type": "code",
      "source": [
        "import numpy as np\n",
        "numpy_array = np.array([[10, 20], [30, 40]])\n",
        "print(\"numpy_array:\\n\",numpy_array)\n",
        "tensor_array =torch.from_numpy(numpy_array)\n",
        "print(\"Converted_array:\\n\",tensor_array)\n",
        "numpy_array_back = tensor_array.numpy()\n",
        "print(\"numpy_array_back:\\n\",numpy_array_back )"
      ],
      "metadata": {
        "colab": {
          "base_uri": "https://localhost:8080/"
        },
        "id": "u5iN1-ai-7c2",
        "outputId": "6fc1df33-301d-4832-8449-ca4d97c94cc3"
      },
      "execution_count": null,
      "outputs": [
        {
          "output_type": "stream",
          "name": "stdout",
          "text": [
            "numpy_array:\n",
            " [[10 20]\n",
            " [30 40]]\n",
            "Converted_array:\n",
            " tensor([[10, 20],\n",
            "        [30, 40]])\n",
            "numpy_array_back:\n",
            " [[10 20]\n",
            " [30 40]]\n"
          ]
        }
      ]
    },
    {
      "cell_type": "markdown",
      "source": [
        "### Q4. In TensorFlow, create a 3x3 tensor filled with ones. Reshape it to a 1D tensor of size 9."
      ],
      "metadata": {
        "id": "D0G0Gw60A6Az"
      }
    },
    {
      "cell_type": "code",
      "source": [
        "import tensorflow as tf\n",
        "tensor = tf.ones((3,3))\n",
        "print(\"Tensor:\\n\",tensor)\n",
        "reshaped_tensor = tf.reshape(tensor,(9))\n",
        "print(\"reshaped_tensor:\\n\",reshaped_tensor)"
      ],
      "metadata": {
        "colab": {
          "base_uri": "https://localhost:8080/"
        },
        "id": "sxbPZFHEA5qL",
        "outputId": "e5e88509-954c-48b3-e2ad-a93336565e71"
      },
      "execution_count": null,
      "outputs": [
        {
          "output_type": "stream",
          "name": "stdout",
          "text": [
            "Tensor:\n",
            " tf.Tensor(\n",
            "[[1. 1. 1.]\n",
            " [1. 1. 1.]\n",
            " [1. 1. 1.]], shape=(3, 3), dtype=float32)\n",
            "reshaped_tensor:\n",
            " tf.Tensor([1. 1. 1. 1. 1. 1. 1. 1. 1.], shape=(9,), dtype=float32)\n"
          ]
        }
      ]
    },
    {
      "cell_type": "markdown",
      "source": [
        "### Q5. In TensorFlow, define two 1D tensors and compute: (a) Their sum (b) Their dot product"
      ],
      "metadata": {
        "id": "l_Te5vBWh2ZQ"
      }
    },
    {
      "cell_type": "code",
      "source": [
        "tensor1 = tf.constant([1.0,2.0,3.0])\n",
        "tensor2 = tf.constant([4.0,5.0,6.0])\n",
        "print(\"addition:\\n\",tensor1+tensor2)\n",
        "print(\"dot product:\\n\",tf.tensordot(tensor1,tensor2,axes=1))"
      ],
      "metadata": {
        "colab": {
          "base_uri": "https://localhost:8080/"
        },
        "id": "yRAOf8dCh5Tf",
        "outputId": "0152612c-1c47-4102-a9fe-615356b59c2d"
      },
      "execution_count": null,
      "outputs": [
        {
          "output_type": "stream",
          "name": "stdout",
          "text": [
            "addition:\n",
            " tf.Tensor([5. 7. 9.], shape=(3,), dtype=float32)\n",
            "dot product:\n",
            " tf.Tensor(32.0, shape=(), dtype=float32)\n"
          ]
        }
      ]
    },
    {
      "cell_type": "markdown",
      "source": [
        "### Q6. Convert the NumPy array [[5, 6], [7, 8]] into a TensorFlow tensor and back to NumPy."
      ],
      "metadata": {
        "id": "YL8ezGxAjm5W"
      }
    },
    {
      "cell_type": "code",
      "source": [
        "numpy_array = np.array([[5,6],[7,8]])\n",
        "print(\"numpy array:\\n\",numpy_array)\n",
        "tensor_array = tf.convert_to_tensor(numpy_array)\n",
        "print(\"tensor_array:\\n\",tensor_array)\n",
        "numpy_array_back = tensor_array.numpy()\n",
        "print(\"converted numpy:\\n\",numpy_array_back)"
      ],
      "metadata": {
        "colab": {
          "base_uri": "https://localhost:8080/"
        },
        "id": "q4OPJw6DjqT4",
        "outputId": "f223602e-6496-4688-de3d-a7fe873ae637"
      },
      "execution_count": null,
      "outputs": [
        {
          "output_type": "stream",
          "name": "stdout",
          "text": [
            "numpy array:\n",
            " [[5 6]\n",
            " [7 8]]\n",
            "tensor_array:\n",
            " tf.Tensor(\n",
            "[[5 6]\n",
            " [7 8]], shape=(2, 2), dtype=int64)\n",
            "converted numpy:\n",
            " [[5 6]\n",
            " [7 8]]\n"
          ]
        }
      ]
    },
    {
      "cell_type": "markdown",
      "source": [
        "# **VIVA QUESTIONS**"
      ],
      "metadata": {
        "id": "kPRA7c4m223R"
      }
    },
    {
      "cell_type": "markdown",
      "source": [
        "### **Q1.What is the purpose of .view(9) and tf.reshape()?**\n",
        "### Ans.Both .view(9) in PyTorch and tf.reshape() in TensorFlow are used to reshape tensors-changing their shape (rows/columns) without changing the data.\n",
        "### .view(9) reshapes the PyTorch tensor to a 1D tensor of 9 elements.\n",
        "\n",
        "### tf.reshape() reshapes the TensorFlow tensor similarly.\n",
        "### This is helpful when input data needs to be fed into a model that expects a specific shape.\n",
        "\n"
      ],
      "metadata": {
        "id": "u_lESxo92-Jt"
      }
    },
    {
      "cell_type": "markdown",
      "source": [
        "### **Q2.What does the dot product result tell you?**\n",
        "\n",
        "### ANS.The dot product gives a single number that shows how similar or aligned two vectors are. If the result is positive, the vectors point in a similar direction; if it's zero, they are perpendicular (no similarity); and if it's negative, they point in opposite directions. In deep learning, it helps measure similarity, projection, or perform weighted sums"
      ],
      "metadata": {
        "id": "oKIhyWei5B9u"
      }
    },
    {
      "cell_type": "markdown",
      "source": [
        "### **### Q3. How does torch.from_numpy() differ from tf.convert_to_tensor()?**\n",
        "### ANS.torch.from_numpy() creates a PyTorch tensor that shares memory with the original NumPy array. So, changes in one will affect the other.\n",
        "### On the other hand, tf.convert_to_tensor() creates a TensorFlow tensor from a NumPy array or list, but it usually copies the data, so changes in the original array do not affect the tensor."
      ],
      "metadata": {
        "id": "kmuAsJfq56ep"
      }
    },
    {
      "cell_type": "markdown",
      "source": [
        "### **Q4. Why is .numpy() used in both PyTorch and TensorFlow?**\n",
        "### Ans. .numpy() is used to convert a tensor into a NumPy array. This is useful because:\n",
        "\n",
        "### NumPy has many built-in functions for math and analysis.\n",
        "### It’s easier to use Python libraries like matplotlib, scikit-learn, etc., with NumPy arrays.\n",
        "### You can export or manipulate the tensor in a familiar format.\n"
      ],
      "metadata": {
        "id": "O2d7Oj6v6-mI"
      }
    },
    {
      "cell_type": "markdown",
      "source": [
        "### **Q5. What is the data type (dtype) of the tensors created?**\n",
        "### Ans. The dtype of a tensor tells us what type of data it holds — like integers (int), floating-point numbers (float), booleans (bool), etc.\n",
        "### By default:\n",
        "### PyTorch tensors are usually created with torch.float32.\n",
        "### TensorFlow tensors are usually created with tf.float32."
      ],
      "metadata": {
        "id": "1xra0DXo8SDA"
      }
    },
    {
      "cell_type": "markdown",
      "source": [
        "### **Q6.Can you reshape a 3×3 tensor to size 6? Why or why not?**\n",
        "\n",
        "### Ans.No, we cannot reshape a 3×3 tensor (which has 9 elements) to size 6, because reshaping does not change the data—it only changes the shape.\n",
        "### To reshape a tensor, the total number of elements must remain the same."
      ],
      "metadata": {
        "id": "h1GdE1gL9Qyf"
      }
    }
  ]
}